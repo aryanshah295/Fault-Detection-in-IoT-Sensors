{
  "nbformat": 4,
  "nbformat_minor": 0,
  "metadata": {
    "colab": {
      "provenance": []
    },
    "kernelspec": {
      "name": "python3",
      "display_name": "Python 3"
    },
    "language_info": {
      "name": "python"
    }
  },
  "cells": [
    {
      "cell_type": "markdown",
      "source": [
        "# IDMP - Final Project -  Data Integration Pipeline for IOT Sensor Data"
      ],
      "metadata": {
        "id": "bylXZ38AnCjw"
      }
    },
    {
      "cell_type": "code",
      "source": [
        "import pandas as pd\n",
        "import numpy as np\n",
        "import matplotlib.pyplot as plt\n",
        "import seaborn as sns\n"
      ],
      "metadata": {
        "id": "4tJwIMpVnD9x"
      },
      "execution_count": 48,
      "outputs": []
    },
    {
      "cell_type": "code",
      "source": [
        "import numpy as np\n",
        "import matplotlib.pyplot as plt\n",
        "\n",
        "def generate_iot_sensor_data(num_samples=5000, time_steps=50, num_features=12, fault_probability=0.2):\n",
        "\n",
        "    X = np.zeros((num_samples, time_steps, num_features))\n",
        "    y = np.zeros(num_samples)\n",
        "\n",
        "    for i in range(num_samples):\n",
        "        normal_sequence = np.random.normal(loc=0.5, scale=0.1, size=(time_steps, num_features))\n",
        "        X[i] = normal_sequence\n",
        "        if np.random.rand() < fault_probability:\n",
        "            y[i] = 1\n",
        "            num_faulty_features = np.random.randint(1, num_features // 2 + 1)\n",
        "            faulty_features = np.random.choice(num_features, num_faulty_features, replace=False)\n",
        "            for feature in faulty_features:\n",
        "                anomaly_type = np.random.choice([\"spike\", \"drift\"])\n",
        "                if anomaly_type == \"spike\":\n",
        "                    X[i, :, feature] += np.random.normal(loc=2, scale=0.5, size=time_steps)\n",
        "                elif anomaly_type == \"drift\":\n",
        "                    X[i, :, feature] += np.linspace(0, np.random.uniform(1, 2), time_steps)\n",
        "\n",
        "    return X, y\n",
        "\n",
        "\n",
        "num_samples = 1000\n",
        "time_steps = 50\n",
        "num_features = 5\n",
        "fault_probability = 0.3\n",
        "\n",
        "X, y = generate_iot_sensor_data(num_samples, time_steps, num_features, fault_probability)\n",
        "\n",
        "print(f\"Data shape (X): {X.shape}\")\n",
        "print(f\"Labels shape (y): {y.shape}\")"
      ],
      "metadata": {
        "colab": {
          "base_uri": "https://localhost:8080/"
        },
        "id": "YccE95OKm-d2",
        "outputId": "682f471e-cf30-4060-bba7-2cada1e01c8d"
      },
      "execution_count": 5,
      "outputs": [
        {
          "output_type": "stream",
          "name": "stdout",
          "text": [
            "Data shape (X): (1000, 50, 5)\n",
            "Labels shape (y): (1000,)\n"
          ]
        }
      ]
    },
    {
      "cell_type": "code",
      "source": [
        "import pandas as pd\n",
        "\n",
        "def save_to_csv(X, y, filename=\"iot_sensor_dataset.csv\"):\n",
        "\n",
        "    num_samples, time_steps, num_features = X.shape\n",
        "    X_flattened = X.reshape(num_samples, time_steps * num_features)\n",
        "\n",
        "    data = np.hstack((X_flattened, y.reshape(-1, 1)))\n",
        "\n",
        "    feature_columns = [f\"Sensor_{i}_T{j}\" for i in range(num_features) for j in range(time_steps)]\n",
        "    columns = feature_columns + [\"Label\"]\n",
        "    df = pd.DataFrame(data, columns=columns)\n",
        "\n",
        "    # Save to CSV\n",
        "    df.to_csv(filename, index=False)\n",
        "    print(f\"Dataset saved to {filename}\")\n",
        "\n",
        "save_to_csv(X, y, filename=\"iot_sensor_dataset.csv\")\n"
      ],
      "metadata": {
        "colab": {
          "base_uri": "https://localhost:8080/"
        },
        "id": "lMsW6_pKTp8T",
        "outputId": "d23ae28d-d9b5-47b2-ffe3-1bd4dacf5b3f"
      },
      "execution_count": 6,
      "outputs": [
        {
          "output_type": "stream",
          "name": "stdout",
          "text": [
            "Dataset saved to iot_sensor_dataset.csv\n"
          ]
        }
      ]
    },
    {
      "cell_type": "code",
      "source": [
        "filename = \"iot_sensor_dataset.csv\"\n",
        "data = pd.read_csv(filename)\n",
        "print(data.shape)\n",
        "data.info\n"
      ],
      "metadata": {
        "colab": {
          "base_uri": "https://localhost:8080/",
          "height": 221
        },
        "id": "Oy76kl6Am5YK",
        "outputId": "898305e3-d549-4279-a093-4996fe20f38e"
      },
      "execution_count": 10,
      "outputs": [
        {
          "output_type": "stream",
          "name": "stdout",
          "text": [
            "(1000, 251)\n"
          ]
        },
        {
          "output_type": "execute_result",
          "data": {
            "text/plain": [
              "<bound method DataFrame.info of      Sensor_0_T0  Sensor_0_T1  Sensor_0_T2  Sensor_0_T3  Sensor_0_T4  \\\n",
              "0       0.680458     0.553846     0.461571     0.479942     0.659133   \n",
              "1       0.305672     2.936860     0.403472     2.335451     0.501100   \n",
              "2       0.598915     0.448058     0.421844     0.474577     0.407388   \n",
              "3       0.596216     0.495945     0.539999     0.556162     0.410906   \n",
              "4       0.370144     0.526579     0.472494     0.403984     0.485070   \n",
              "..           ...          ...          ...          ...          ...   \n",
              "995     0.525602     0.552106     0.523481     0.377091     0.436922   \n",
              "996     0.570095     0.512761     0.509997     0.514560     3.242502   \n",
              "997     0.674040     0.438662     0.607108     0.618548     0.437096   \n",
              "998     0.482716     0.474018     0.596293     0.403816     0.528541   \n",
              "999     0.406590     0.607166     0.585514     0.495209     0.277355   \n",
              "\n",
              "     Sensor_0_T5  Sensor_0_T6  Sensor_0_T7  Sensor_0_T8  Sensor_0_T9  ...  \\\n",
              "0       0.475564     0.364434     0.493955     0.368702     0.423274  ...   \n",
              "1       0.387854     2.918947     0.480570     2.000338     0.573213  ...   \n",
              "2       0.480973     0.333243     0.451128     0.433872     0.553953  ...   \n",
              "3       0.527075     0.623972     0.702948     0.687613     0.588581  ...   \n",
              "4       0.323730     0.672239     0.350888     0.283333     0.651008  ...   \n",
              "..           ...          ...          ...          ...          ...  ...   \n",
              "995     0.506425     0.311938     0.653952     0.595374     0.468384  ...   \n",
              "996     0.564332     0.540489     0.395362     0.414932     3.285551  ...   \n",
              "997     0.524916     0.629724     0.455469     0.435846     0.484120  ...   \n",
              "998     0.365588     0.485409     0.448282     0.542793     0.365984  ...   \n",
              "999     0.533110     0.769768     0.529338     0.351040     0.326276  ...   \n",
              "\n",
              "     Sensor_4_T41  Sensor_4_T42  Sensor_4_T43  Sensor_4_T44  Sensor_4_T45  \\\n",
              "0        0.486158      0.642388      0.525600      0.479097      0.474496   \n",
              "1        2.442911      0.476389      3.711477      0.474435      0.403373   \n",
              "2        0.624945      0.411265      0.546865      1.853650      2.016150   \n",
              "3        0.440700      1.679898      0.385881      0.641748      0.589972   \n",
              "4        0.466435      0.425330      0.632953      0.560095      0.589099   \n",
              "..            ...           ...           ...           ...           ...   \n",
              "995      0.528614      0.369595      0.627840      0.466099      0.611454   \n",
              "996      0.482986      0.383826      0.564834      2.136056      0.427836   \n",
              "997      0.569814      0.509418      1.620060      0.589642      2.234714   \n",
              "998      0.479952      0.372562      0.421451      0.615209      0.553402   \n",
              "999      0.670592      0.366267      0.597107      0.588362      0.436128   \n",
              "\n",
              "     Sensor_4_T46  Sensor_4_T47  Sensor_4_T48  Sensor_4_T49  Label  \n",
              "0        0.446088      0.502093      0.480632      0.554555    0.0  \n",
              "1        2.507585      0.396773      2.128180      0.570751    1.0  \n",
              "2        0.551455      0.430221      0.335279      1.791653    1.0  \n",
              "3        0.333375      1.825028      0.592667      0.444578    1.0  \n",
              "4        0.490109      0.505184      0.527100      0.606548    0.0  \n",
              "..            ...           ...           ...           ...    ...  \n",
              "995      0.516527      0.422152      0.590312      0.431984    0.0  \n",
              "996      0.442336      0.501999      0.500223      2.513382    1.0  \n",
              "997      0.594576      0.391045      1.808892      0.661330    1.0  \n",
              "998      0.389381      0.422280      0.308274      0.333521    0.0  \n",
              "999      0.567576      0.588507      0.490682      0.565893    0.0  \n",
              "\n",
              "[1000 rows x 251 columns]>"
            ],
            "text/html": [
              "<div style=\"max-width:800px; border: 1px solid var(--colab-border-color);\"><style>\n",
              "      pre.function-repr-contents {\n",
              "        overflow-x: auto;\n",
              "        padding: 8px 12px;\n",
              "        max-height: 500px;\n",
              "      }\n",
              "\n",
              "      pre.function-repr-contents.function-repr-contents-collapsed {\n",
              "        cursor: pointer;\n",
              "        max-height: 100px;\n",
              "      }\n",
              "    </style>\n",
              "    <pre style=\"white-space: initial; background:\n",
              "         var(--colab-secondary-surface-color); padding: 8px 12px;\n",
              "         border-bottom: 1px solid var(--colab-border-color);\"><b>pandas.core.frame.DataFrame.info</b><br/>def info(verbose: bool | None=None, buf: WriteBuffer[str] | None=None, max_cols: int | None=None, memory_usage: bool | str | None=None, show_counts: bool | None=None) -&gt; None</pre><pre class=\"function-repr-contents function-repr-contents-collapsed\" style=\"\"><a class=\"filepath\" style=\"display:none\" href=\"#\">/usr/local/lib/python3.10/dist-packages/pandas/core/frame.py</a>Print a concise summary of a DataFrame.\n",
              "\n",
              "This method prints information about a DataFrame including\n",
              "the index dtype and columns, non-null values and memory usage.\n",
              "\n",
              "Parameters\n",
              "----------\n",
              "verbose : bool, optional\n",
              "    Whether to print the full summary. By default, the setting in\n",
              "    ``pandas.options.display.max_info_columns`` is followed.\n",
              "buf : writable buffer, defaults to sys.stdout\n",
              "    Where to send the output. By default, the output is printed to\n",
              "    sys.stdout. Pass a writable buffer if you need to further process\n",
              "    the output.\n",
              "max_cols : int, optional\n",
              "    When to switch from the verbose to the truncated output. If the\n",
              "    DataFrame has more than `max_cols` columns, the truncated output\n",
              "    is used. By default, the setting in\n",
              "    ``pandas.options.display.max_info_columns`` is used.\n",
              "memory_usage : bool, str, optional\n",
              "    Specifies whether total memory usage of the DataFrame\n",
              "    elements (including the index) should be displayed. By default,\n",
              "    this follows the ``pandas.options.display.memory_usage`` setting.\n",
              "\n",
              "    True always show memory usage. False never shows memory usage.\n",
              "    A value of &#x27;deep&#x27; is equivalent to &quot;True with deep introspection&quot;.\n",
              "    Memory usage is shown in human-readable units (base-2\n",
              "    representation). Without deep introspection a memory estimation is\n",
              "    made based in column dtype and number of rows assuming values\n",
              "    consume the same memory amount for corresponding dtypes. With deep\n",
              "    memory introspection, a real memory usage calculation is performed\n",
              "    at the cost of computational resources. See the\n",
              "    :ref:`Frequently Asked Questions &lt;df-memory-usage&gt;` for more\n",
              "    details.\n",
              "show_counts : bool, optional\n",
              "    Whether to show the non-null counts. By default, this is shown\n",
              "    only if the DataFrame is smaller than\n",
              "    ``pandas.options.display.max_info_rows`` and\n",
              "    ``pandas.options.display.max_info_columns``. A value of True always\n",
              "    shows the counts, and False never shows the counts.\n",
              "\n",
              "Returns\n",
              "-------\n",
              "None\n",
              "    This method prints a summary of a DataFrame and returns None.\n",
              "\n",
              "See Also\n",
              "--------\n",
              "DataFrame.describe: Generate descriptive statistics of DataFrame\n",
              "    columns.\n",
              "DataFrame.memory_usage: Memory usage of DataFrame columns.\n",
              "\n",
              "Examples\n",
              "--------\n",
              "&gt;&gt;&gt; int_values = [1, 2, 3, 4, 5]\n",
              "&gt;&gt;&gt; text_values = [&#x27;alpha&#x27;, &#x27;beta&#x27;, &#x27;gamma&#x27;, &#x27;delta&#x27;, &#x27;epsilon&#x27;]\n",
              "&gt;&gt;&gt; float_values = [0.0, 0.25, 0.5, 0.75, 1.0]\n",
              "&gt;&gt;&gt; df = pd.DataFrame({&quot;int_col&quot;: int_values, &quot;text_col&quot;: text_values,\n",
              "...                   &quot;float_col&quot;: float_values})\n",
              "&gt;&gt;&gt; df\n",
              "    int_col text_col  float_col\n",
              "0        1    alpha       0.00\n",
              "1        2     beta       0.25\n",
              "2        3    gamma       0.50\n",
              "3        4    delta       0.75\n",
              "4        5  epsilon       1.00\n",
              "\n",
              "Prints information of all columns:\n",
              "\n",
              "&gt;&gt;&gt; df.info(verbose=True)\n",
              "&lt;class &#x27;pandas.core.frame.DataFrame&#x27;&gt;\n",
              "RangeIndex: 5 entries, 0 to 4\n",
              "Data columns (total 3 columns):\n",
              " #   Column     Non-Null Count  Dtype\n",
              "---  ------     --------------  -----\n",
              " 0   int_col    5 non-null      int64\n",
              " 1   text_col   5 non-null      object\n",
              " 2   float_col  5 non-null      float64\n",
              "dtypes: float64(1), int64(1), object(1)\n",
              "memory usage: 248.0+ bytes\n",
              "\n",
              "Prints a summary of columns count and its dtypes but not per column\n",
              "information:\n",
              "\n",
              "&gt;&gt;&gt; df.info(verbose=False)\n",
              "&lt;class &#x27;pandas.core.frame.DataFrame&#x27;&gt;\n",
              "RangeIndex: 5 entries, 0 to 4\n",
              "Columns: 3 entries, int_col to float_col\n",
              "dtypes: float64(1), int64(1), object(1)\n",
              "memory usage: 248.0+ bytes\n",
              "\n",
              "Pipe output of DataFrame.info to buffer instead of sys.stdout, get\n",
              "buffer content and writes to a text file:\n",
              "\n",
              "&gt;&gt;&gt; import io\n",
              "&gt;&gt;&gt; buffer = io.StringIO()\n",
              "&gt;&gt;&gt; df.info(buf=buffer)\n",
              "&gt;&gt;&gt; s = buffer.getvalue()\n",
              "&gt;&gt;&gt; with open(&quot;df_info.txt&quot;, &quot;w&quot;,\n",
              "...           encoding=&quot;utf-8&quot;) as f:  # doctest: +SKIP\n",
              "...     f.write(s)\n",
              "260\n",
              "\n",
              "The `memory_usage` parameter allows deep introspection mode, specially\n",
              "useful for big DataFrames and fine-tune memory optimization:\n",
              "\n",
              "&gt;&gt;&gt; random_strings_array = np.random.choice([&#x27;a&#x27;, &#x27;b&#x27;, &#x27;c&#x27;], 10 ** 6)\n",
              "&gt;&gt;&gt; df = pd.DataFrame({\n",
              "...     &#x27;column_1&#x27;: np.random.choice([&#x27;a&#x27;, &#x27;b&#x27;, &#x27;c&#x27;], 10 ** 6),\n",
              "...     &#x27;column_2&#x27;: np.random.choice([&#x27;a&#x27;, &#x27;b&#x27;, &#x27;c&#x27;], 10 ** 6),\n",
              "...     &#x27;column_3&#x27;: np.random.choice([&#x27;a&#x27;, &#x27;b&#x27;, &#x27;c&#x27;], 10 ** 6)\n",
              "... })\n",
              "&gt;&gt;&gt; df.info()\n",
              "&lt;class &#x27;pandas.core.frame.DataFrame&#x27;&gt;\n",
              "RangeIndex: 1000000 entries, 0 to 999999\n",
              "Data columns (total 3 columns):\n",
              " #   Column    Non-Null Count    Dtype\n",
              "---  ------    --------------    -----\n",
              " 0   column_1  1000000 non-null  object\n",
              " 1   column_2  1000000 non-null  object\n",
              " 2   column_3  1000000 non-null  object\n",
              "dtypes: object(3)\n",
              "memory usage: 22.9+ MB\n",
              "\n",
              "&gt;&gt;&gt; df.info(memory_usage=&#x27;deep&#x27;)\n",
              "&lt;class &#x27;pandas.core.frame.DataFrame&#x27;&gt;\n",
              "RangeIndex: 1000000 entries, 0 to 999999\n",
              "Data columns (total 3 columns):\n",
              " #   Column    Non-Null Count    Dtype\n",
              "---  ------    --------------    -----\n",
              " 0   column_1  1000000 non-null  object\n",
              " 1   column_2  1000000 non-null  object\n",
              " 2   column_3  1000000 non-null  object\n",
              "dtypes: object(3)\n",
              "memory usage: 165.9 MB</pre>\n",
              "      <script>\n",
              "      if (google.colab.kernel.accessAllowed && google.colab.files && google.colab.files.view) {\n",
              "        for (const element of document.querySelectorAll('.filepath')) {\n",
              "          element.style.display = 'block'\n",
              "          element.onclick = (event) => {\n",
              "            event.preventDefault();\n",
              "            event.stopPropagation();\n",
              "            google.colab.files.view(element.textContent, 3646);\n",
              "          };\n",
              "        }\n",
              "      }\n",
              "      for (const element of document.querySelectorAll('.function-repr-contents')) {\n",
              "        element.onclick = (event) => {\n",
              "          event.preventDefault();\n",
              "          event.stopPropagation();\n",
              "          element.classList.toggle('function-repr-contents-collapsed');\n",
              "        };\n",
              "      }\n",
              "      </script>\n",
              "      </div>"
            ]
          },
          "metadata": {},
          "execution_count": 10
        }
      ]
    },
    {
      "cell_type": "code",
      "source": [
        "data.describe()"
      ],
      "metadata": {
        "colab": {
          "base_uri": "https://localhost:8080/",
          "height": 349
        },
        "id": "WRX8WL8Nnuon",
        "outputId": "40c87ce7-d4f1-435a-cd26-f1683ef9627d"
      },
      "execution_count": 11,
      "outputs": [
        {
          "output_type": "execute_result",
          "data": {
            "text/plain": [
              "       Sensor_0_T0  Sensor_0_T1  Sensor_0_T2  Sensor_0_T3  Sensor_0_T4  \\\n",
              "count  1000.000000  1000.000000  1000.000000  1000.000000  1000.000000   \n",
              "mean      0.565845     0.589016     0.582175     0.581755     0.592240   \n",
              "std       0.379252     0.441541     0.411977     0.424525     0.460706   \n",
              "min       0.180806     0.194513     0.185983     0.204534     0.216412   \n",
              "25%       0.437896     0.437641     0.437767     0.434361     0.433070   \n",
              "50%       0.501766     0.510574     0.503733     0.502307     0.504877   \n",
              "75%       0.578455     0.577237     0.571815     0.573965     0.577849   \n",
              "max       3.468926     3.919789     3.144835     4.026414     4.007534   \n",
              "\n",
              "       Sensor_0_T5  Sensor_0_T6  Sensor_0_T7  Sensor_0_T8  Sensor_0_T9  ...  \\\n",
              "count  1000.000000  1000.000000  1000.000000  1000.000000  1000.000000  ...   \n",
              "mean      0.566458     0.592864     0.586338     0.585166     0.591944  ...   \n",
              "std       0.408094     0.433466     0.430670     0.422543     0.429474  ...   \n",
              "min       0.173811     0.191323     0.176439     0.171031     0.191655  ...   \n",
              "25%       0.423936     0.441944     0.430229     0.433279     0.436227  ...   \n",
              "50%       0.498076     0.510365     0.496747     0.504912     0.513193  ...   \n",
              "75%       0.572293     0.586527     0.582668     0.582094     0.583438  ...   \n",
              "max       3.741899     3.842030     3.628995     3.537620     3.821296  ...   \n",
              "\n",
              "       Sensor_4_T41  Sensor_4_T42  Sensor_4_T43  Sensor_4_T44  Sensor_4_T45  \\\n",
              "count   1000.000000   1000.000000   1000.000000   1000.000000   1000.000000   \n",
              "mean       0.649388      0.636039      0.643891      0.651958      0.657477   \n",
              "std        0.504942      0.507635      0.486149      0.521516      0.512310   \n",
              "min        0.159992      0.190322      0.207153      0.208154      0.179177   \n",
              "25%        0.446563      0.432946      0.443001      0.436465      0.443056   \n",
              "50%        0.514712      0.504731      0.510894      0.511521      0.515434   \n",
              "75%        0.592536      0.580766      0.598438      0.594074      0.592913   \n",
              "max        3.772892      4.278082      3.772608      3.230847      3.210409   \n",
              "\n",
              "       Sensor_4_T46  Sensor_4_T47  Sensor_4_T48  Sensor_4_T49       Label  \n",
              "count   1000.000000   1000.000000   1000.000000   1000.000000  1000.00000  \n",
              "mean       0.647701      0.649807      0.651544      0.649181     0.29200  \n",
              "std        0.518760      0.526159      0.518527      0.512624     0.45491  \n",
              "min        0.231052      0.192652      0.124610      0.201676     0.00000  \n",
              "25%        0.442383      0.440620      0.437179      0.437251     0.00000  \n",
              "50%        0.506067      0.508814      0.510604      0.508385     0.00000  \n",
              "75%        0.579378      0.589771      0.596728      0.594492     1.00000  \n",
              "max        4.009076      4.271879      3.500865      3.395109     1.00000  \n",
              "\n",
              "[8 rows x 251 columns]"
            ],
            "text/html": [
              "\n",
              "  <div id=\"df-e69723df-5508-4e9e-8cf4-f06ea4d1cd4b\" class=\"colab-df-container\">\n",
              "    <div>\n",
              "<style scoped>\n",
              "    .dataframe tbody tr th:only-of-type {\n",
              "        vertical-align: middle;\n",
              "    }\n",
              "\n",
              "    .dataframe tbody tr th {\n",
              "        vertical-align: top;\n",
              "    }\n",
              "\n",
              "    .dataframe thead th {\n",
              "        text-align: right;\n",
              "    }\n",
              "</style>\n",
              "<table border=\"1\" class=\"dataframe\">\n",
              "  <thead>\n",
              "    <tr style=\"text-align: right;\">\n",
              "      <th></th>\n",
              "      <th>Sensor_0_T0</th>\n",
              "      <th>Sensor_0_T1</th>\n",
              "      <th>Sensor_0_T2</th>\n",
              "      <th>Sensor_0_T3</th>\n",
              "      <th>Sensor_0_T4</th>\n",
              "      <th>Sensor_0_T5</th>\n",
              "      <th>Sensor_0_T6</th>\n",
              "      <th>Sensor_0_T7</th>\n",
              "      <th>Sensor_0_T8</th>\n",
              "      <th>Sensor_0_T9</th>\n",
              "      <th>...</th>\n",
              "      <th>Sensor_4_T41</th>\n",
              "      <th>Sensor_4_T42</th>\n",
              "      <th>Sensor_4_T43</th>\n",
              "      <th>Sensor_4_T44</th>\n",
              "      <th>Sensor_4_T45</th>\n",
              "      <th>Sensor_4_T46</th>\n",
              "      <th>Sensor_4_T47</th>\n",
              "      <th>Sensor_4_T48</th>\n",
              "      <th>Sensor_4_T49</th>\n",
              "      <th>Label</th>\n",
              "    </tr>\n",
              "  </thead>\n",
              "  <tbody>\n",
              "    <tr>\n",
              "      <th>count</th>\n",
              "      <td>1000.000000</td>\n",
              "      <td>1000.000000</td>\n",
              "      <td>1000.000000</td>\n",
              "      <td>1000.000000</td>\n",
              "      <td>1000.000000</td>\n",
              "      <td>1000.000000</td>\n",
              "      <td>1000.000000</td>\n",
              "      <td>1000.000000</td>\n",
              "      <td>1000.000000</td>\n",
              "      <td>1000.000000</td>\n",
              "      <td>...</td>\n",
              "      <td>1000.000000</td>\n",
              "      <td>1000.000000</td>\n",
              "      <td>1000.000000</td>\n",
              "      <td>1000.000000</td>\n",
              "      <td>1000.000000</td>\n",
              "      <td>1000.000000</td>\n",
              "      <td>1000.000000</td>\n",
              "      <td>1000.000000</td>\n",
              "      <td>1000.000000</td>\n",
              "      <td>1000.00000</td>\n",
              "    </tr>\n",
              "    <tr>\n",
              "      <th>mean</th>\n",
              "      <td>0.565845</td>\n",
              "      <td>0.589016</td>\n",
              "      <td>0.582175</td>\n",
              "      <td>0.581755</td>\n",
              "      <td>0.592240</td>\n",
              "      <td>0.566458</td>\n",
              "      <td>0.592864</td>\n",
              "      <td>0.586338</td>\n",
              "      <td>0.585166</td>\n",
              "      <td>0.591944</td>\n",
              "      <td>...</td>\n",
              "      <td>0.649388</td>\n",
              "      <td>0.636039</td>\n",
              "      <td>0.643891</td>\n",
              "      <td>0.651958</td>\n",
              "      <td>0.657477</td>\n",
              "      <td>0.647701</td>\n",
              "      <td>0.649807</td>\n",
              "      <td>0.651544</td>\n",
              "      <td>0.649181</td>\n",
              "      <td>0.29200</td>\n",
              "    </tr>\n",
              "    <tr>\n",
              "      <th>std</th>\n",
              "      <td>0.379252</td>\n",
              "      <td>0.441541</td>\n",
              "      <td>0.411977</td>\n",
              "      <td>0.424525</td>\n",
              "      <td>0.460706</td>\n",
              "      <td>0.408094</td>\n",
              "      <td>0.433466</td>\n",
              "      <td>0.430670</td>\n",
              "      <td>0.422543</td>\n",
              "      <td>0.429474</td>\n",
              "      <td>...</td>\n",
              "      <td>0.504942</td>\n",
              "      <td>0.507635</td>\n",
              "      <td>0.486149</td>\n",
              "      <td>0.521516</td>\n",
              "      <td>0.512310</td>\n",
              "      <td>0.518760</td>\n",
              "      <td>0.526159</td>\n",
              "      <td>0.518527</td>\n",
              "      <td>0.512624</td>\n",
              "      <td>0.45491</td>\n",
              "    </tr>\n",
              "    <tr>\n",
              "      <th>min</th>\n",
              "      <td>0.180806</td>\n",
              "      <td>0.194513</td>\n",
              "      <td>0.185983</td>\n",
              "      <td>0.204534</td>\n",
              "      <td>0.216412</td>\n",
              "      <td>0.173811</td>\n",
              "      <td>0.191323</td>\n",
              "      <td>0.176439</td>\n",
              "      <td>0.171031</td>\n",
              "      <td>0.191655</td>\n",
              "      <td>...</td>\n",
              "      <td>0.159992</td>\n",
              "      <td>0.190322</td>\n",
              "      <td>0.207153</td>\n",
              "      <td>0.208154</td>\n",
              "      <td>0.179177</td>\n",
              "      <td>0.231052</td>\n",
              "      <td>0.192652</td>\n",
              "      <td>0.124610</td>\n",
              "      <td>0.201676</td>\n",
              "      <td>0.00000</td>\n",
              "    </tr>\n",
              "    <tr>\n",
              "      <th>25%</th>\n",
              "      <td>0.437896</td>\n",
              "      <td>0.437641</td>\n",
              "      <td>0.437767</td>\n",
              "      <td>0.434361</td>\n",
              "      <td>0.433070</td>\n",
              "      <td>0.423936</td>\n",
              "      <td>0.441944</td>\n",
              "      <td>0.430229</td>\n",
              "      <td>0.433279</td>\n",
              "      <td>0.436227</td>\n",
              "      <td>...</td>\n",
              "      <td>0.446563</td>\n",
              "      <td>0.432946</td>\n",
              "      <td>0.443001</td>\n",
              "      <td>0.436465</td>\n",
              "      <td>0.443056</td>\n",
              "      <td>0.442383</td>\n",
              "      <td>0.440620</td>\n",
              "      <td>0.437179</td>\n",
              "      <td>0.437251</td>\n",
              "      <td>0.00000</td>\n",
              "    </tr>\n",
              "    <tr>\n",
              "      <th>50%</th>\n",
              "      <td>0.501766</td>\n",
              "      <td>0.510574</td>\n",
              "      <td>0.503733</td>\n",
              "      <td>0.502307</td>\n",
              "      <td>0.504877</td>\n",
              "      <td>0.498076</td>\n",
              "      <td>0.510365</td>\n",
              "      <td>0.496747</td>\n",
              "      <td>0.504912</td>\n",
              "      <td>0.513193</td>\n",
              "      <td>...</td>\n",
              "      <td>0.514712</td>\n",
              "      <td>0.504731</td>\n",
              "      <td>0.510894</td>\n",
              "      <td>0.511521</td>\n",
              "      <td>0.515434</td>\n",
              "      <td>0.506067</td>\n",
              "      <td>0.508814</td>\n",
              "      <td>0.510604</td>\n",
              "      <td>0.508385</td>\n",
              "      <td>0.00000</td>\n",
              "    </tr>\n",
              "    <tr>\n",
              "      <th>75%</th>\n",
              "      <td>0.578455</td>\n",
              "      <td>0.577237</td>\n",
              "      <td>0.571815</td>\n",
              "      <td>0.573965</td>\n",
              "      <td>0.577849</td>\n",
              "      <td>0.572293</td>\n",
              "      <td>0.586527</td>\n",
              "      <td>0.582668</td>\n",
              "      <td>0.582094</td>\n",
              "      <td>0.583438</td>\n",
              "      <td>...</td>\n",
              "      <td>0.592536</td>\n",
              "      <td>0.580766</td>\n",
              "      <td>0.598438</td>\n",
              "      <td>0.594074</td>\n",
              "      <td>0.592913</td>\n",
              "      <td>0.579378</td>\n",
              "      <td>0.589771</td>\n",
              "      <td>0.596728</td>\n",
              "      <td>0.594492</td>\n",
              "      <td>1.00000</td>\n",
              "    </tr>\n",
              "    <tr>\n",
              "      <th>max</th>\n",
              "      <td>3.468926</td>\n",
              "      <td>3.919789</td>\n",
              "      <td>3.144835</td>\n",
              "      <td>4.026414</td>\n",
              "      <td>4.007534</td>\n",
              "      <td>3.741899</td>\n",
              "      <td>3.842030</td>\n",
              "      <td>3.628995</td>\n",
              "      <td>3.537620</td>\n",
              "      <td>3.821296</td>\n",
              "      <td>...</td>\n",
              "      <td>3.772892</td>\n",
              "      <td>4.278082</td>\n",
              "      <td>3.772608</td>\n",
              "      <td>3.230847</td>\n",
              "      <td>3.210409</td>\n",
              "      <td>4.009076</td>\n",
              "      <td>4.271879</td>\n",
              "      <td>3.500865</td>\n",
              "      <td>3.395109</td>\n",
              "      <td>1.00000</td>\n",
              "    </tr>\n",
              "  </tbody>\n",
              "</table>\n",
              "<p>8 rows × 251 columns</p>\n",
              "</div>\n",
              "    <div class=\"colab-df-buttons\">\n",
              "\n",
              "  <div class=\"colab-df-container\">\n",
              "    <button class=\"colab-df-convert\" onclick=\"convertToInteractive('df-e69723df-5508-4e9e-8cf4-f06ea4d1cd4b')\"\n",
              "            title=\"Convert this dataframe to an interactive table.\"\n",
              "            style=\"display:none;\">\n",
              "\n",
              "  <svg xmlns=\"http://www.w3.org/2000/svg\" height=\"24px\" viewBox=\"0 -960 960 960\">\n",
              "    <path d=\"M120-120v-720h720v720H120Zm60-500h600v-160H180v160Zm220 220h160v-160H400v160Zm0 220h160v-160H400v160ZM180-400h160v-160H180v160Zm440 0h160v-160H620v160ZM180-180h160v-160H180v160Zm440 0h160v-160H620v160Z\"/>\n",
              "  </svg>\n",
              "    </button>\n",
              "\n",
              "  <style>\n",
              "    .colab-df-container {\n",
              "      display:flex;\n",
              "      gap: 12px;\n",
              "    }\n",
              "\n",
              "    .colab-df-convert {\n",
              "      background-color: #E8F0FE;\n",
              "      border: none;\n",
              "      border-radius: 50%;\n",
              "      cursor: pointer;\n",
              "      display: none;\n",
              "      fill: #1967D2;\n",
              "      height: 32px;\n",
              "      padding: 0 0 0 0;\n",
              "      width: 32px;\n",
              "    }\n",
              "\n",
              "    .colab-df-convert:hover {\n",
              "      background-color: #E2EBFA;\n",
              "      box-shadow: 0px 1px 2px rgba(60, 64, 67, 0.3), 0px 1px 3px 1px rgba(60, 64, 67, 0.15);\n",
              "      fill: #174EA6;\n",
              "    }\n",
              "\n",
              "    .colab-df-buttons div {\n",
              "      margin-bottom: 4px;\n",
              "    }\n",
              "\n",
              "    [theme=dark] .colab-df-convert {\n",
              "      background-color: #3B4455;\n",
              "      fill: #D2E3FC;\n",
              "    }\n",
              "\n",
              "    [theme=dark] .colab-df-convert:hover {\n",
              "      background-color: #434B5C;\n",
              "      box-shadow: 0px 1px 3px 1px rgba(0, 0, 0, 0.15);\n",
              "      filter: drop-shadow(0px 1px 2px rgba(0, 0, 0, 0.3));\n",
              "      fill: #FFFFFF;\n",
              "    }\n",
              "  </style>\n",
              "\n",
              "    <script>\n",
              "      const buttonEl =\n",
              "        document.querySelector('#df-e69723df-5508-4e9e-8cf4-f06ea4d1cd4b button.colab-df-convert');\n",
              "      buttonEl.style.display =\n",
              "        google.colab.kernel.accessAllowed ? 'block' : 'none';\n",
              "\n",
              "      async function convertToInteractive(key) {\n",
              "        const element = document.querySelector('#df-e69723df-5508-4e9e-8cf4-f06ea4d1cd4b');\n",
              "        const dataTable =\n",
              "          await google.colab.kernel.invokeFunction('convertToInteractive',\n",
              "                                                    [key], {});\n",
              "        if (!dataTable) return;\n",
              "\n",
              "        const docLinkHtml = 'Like what you see? Visit the ' +\n",
              "          '<a target=\"_blank\" href=https://colab.research.google.com/notebooks/data_table.ipynb>data table notebook</a>'\n",
              "          + ' to learn more about interactive tables.';\n",
              "        element.innerHTML = '';\n",
              "        dataTable['output_type'] = 'display_data';\n",
              "        await google.colab.output.renderOutput(dataTable, element);\n",
              "        const docLink = document.createElement('div');\n",
              "        docLink.innerHTML = docLinkHtml;\n",
              "        element.appendChild(docLink);\n",
              "      }\n",
              "    </script>\n",
              "  </div>\n",
              "\n",
              "\n",
              "<div id=\"df-e997169c-f12f-4987-8e11-1c290633d05a\">\n",
              "  <button class=\"colab-df-quickchart\" onclick=\"quickchart('df-e997169c-f12f-4987-8e11-1c290633d05a')\"\n",
              "            title=\"Suggest charts\"\n",
              "            style=\"display:none;\">\n",
              "\n",
              "<svg xmlns=\"http://www.w3.org/2000/svg\" height=\"24px\"viewBox=\"0 0 24 24\"\n",
              "     width=\"24px\">\n",
              "    <g>\n",
              "        <path d=\"M19 3H5c-1.1 0-2 .9-2 2v14c0 1.1.9 2 2 2h14c1.1 0 2-.9 2-2V5c0-1.1-.9-2-2-2zM9 17H7v-7h2v7zm4 0h-2V7h2v10zm4 0h-2v-4h2v4z\"/>\n",
              "    </g>\n",
              "</svg>\n",
              "  </button>\n",
              "\n",
              "<style>\n",
              "  .colab-df-quickchart {\n",
              "      --bg-color: #E8F0FE;\n",
              "      --fill-color: #1967D2;\n",
              "      --hover-bg-color: #E2EBFA;\n",
              "      --hover-fill-color: #174EA6;\n",
              "      --disabled-fill-color: #AAA;\n",
              "      --disabled-bg-color: #DDD;\n",
              "  }\n",
              "\n",
              "  [theme=dark] .colab-df-quickchart {\n",
              "      --bg-color: #3B4455;\n",
              "      --fill-color: #D2E3FC;\n",
              "      --hover-bg-color: #434B5C;\n",
              "      --hover-fill-color: #FFFFFF;\n",
              "      --disabled-bg-color: #3B4455;\n",
              "      --disabled-fill-color: #666;\n",
              "  }\n",
              "\n",
              "  .colab-df-quickchart {\n",
              "    background-color: var(--bg-color);\n",
              "    border: none;\n",
              "    border-radius: 50%;\n",
              "    cursor: pointer;\n",
              "    display: none;\n",
              "    fill: var(--fill-color);\n",
              "    height: 32px;\n",
              "    padding: 0;\n",
              "    width: 32px;\n",
              "  }\n",
              "\n",
              "  .colab-df-quickchart:hover {\n",
              "    background-color: var(--hover-bg-color);\n",
              "    box-shadow: 0 1px 2px rgba(60, 64, 67, 0.3), 0 1px 3px 1px rgba(60, 64, 67, 0.15);\n",
              "    fill: var(--button-hover-fill-color);\n",
              "  }\n",
              "\n",
              "  .colab-df-quickchart-complete:disabled,\n",
              "  .colab-df-quickchart-complete:disabled:hover {\n",
              "    background-color: var(--disabled-bg-color);\n",
              "    fill: var(--disabled-fill-color);\n",
              "    box-shadow: none;\n",
              "  }\n",
              "\n",
              "  .colab-df-spinner {\n",
              "    border: 2px solid var(--fill-color);\n",
              "    border-color: transparent;\n",
              "    border-bottom-color: var(--fill-color);\n",
              "    animation:\n",
              "      spin 1s steps(1) infinite;\n",
              "  }\n",
              "\n",
              "  @keyframes spin {\n",
              "    0% {\n",
              "      border-color: transparent;\n",
              "      border-bottom-color: var(--fill-color);\n",
              "      border-left-color: var(--fill-color);\n",
              "    }\n",
              "    20% {\n",
              "      border-color: transparent;\n",
              "      border-left-color: var(--fill-color);\n",
              "      border-top-color: var(--fill-color);\n",
              "    }\n",
              "    30% {\n",
              "      border-color: transparent;\n",
              "      border-left-color: var(--fill-color);\n",
              "      border-top-color: var(--fill-color);\n",
              "      border-right-color: var(--fill-color);\n",
              "    }\n",
              "    40% {\n",
              "      border-color: transparent;\n",
              "      border-right-color: var(--fill-color);\n",
              "      border-top-color: var(--fill-color);\n",
              "    }\n",
              "    60% {\n",
              "      border-color: transparent;\n",
              "      border-right-color: var(--fill-color);\n",
              "    }\n",
              "    80% {\n",
              "      border-color: transparent;\n",
              "      border-right-color: var(--fill-color);\n",
              "      border-bottom-color: var(--fill-color);\n",
              "    }\n",
              "    90% {\n",
              "      border-color: transparent;\n",
              "      border-bottom-color: var(--fill-color);\n",
              "    }\n",
              "  }\n",
              "</style>\n",
              "\n",
              "  <script>\n",
              "    async function quickchart(key) {\n",
              "      const quickchartButtonEl =\n",
              "        document.querySelector('#' + key + ' button');\n",
              "      quickchartButtonEl.disabled = true;  // To prevent multiple clicks.\n",
              "      quickchartButtonEl.classList.add('colab-df-spinner');\n",
              "      try {\n",
              "        const charts = await google.colab.kernel.invokeFunction(\n",
              "            'suggestCharts', [key], {});\n",
              "      } catch (error) {\n",
              "        console.error('Error during call to suggestCharts:', error);\n",
              "      }\n",
              "      quickchartButtonEl.classList.remove('colab-df-spinner');\n",
              "      quickchartButtonEl.classList.add('colab-df-quickchart-complete');\n",
              "    }\n",
              "    (() => {\n",
              "      let quickchartButtonEl =\n",
              "        document.querySelector('#df-e997169c-f12f-4987-8e11-1c290633d05a button');\n",
              "      quickchartButtonEl.style.display =\n",
              "        google.colab.kernel.accessAllowed ? 'block' : 'none';\n",
              "    })();\n",
              "  </script>\n",
              "</div>\n",
              "\n",
              "    </div>\n",
              "  </div>\n"
            ],
            "application/vnd.google.colaboratory.intrinsic+json": {
              "type": "dataframe"
            }
          },
          "metadata": {},
          "execution_count": 11
        }
      ]
    },
    {
      "cell_type": "markdown",
      "source": [
        "# Preprocessing On the Data"
      ],
      "metadata": {
        "id": "ag-Vj02onxC7"
      }
    },
    {
      "cell_type": "markdown",
      "source": [
        "## Standardization of the data"
      ],
      "metadata": {
        "id": "-f5bq8t2oRji"
      }
    },
    {
      "cell_type": "code",
      "source": [
        "def manual_standardization(data):\n",
        "    means = data.mean(axis=0)\n",
        "    std_devs = data.std(axis=0)\n",
        "    standardized_data = (data - means) / std_devs\n",
        "    return standardized_data"
      ],
      "metadata": {
        "id": "zx0ml9qzngtV"
      },
      "execution_count": 12,
      "outputs": []
    },
    {
      "cell_type": "markdown",
      "source": [
        "## Data Reshaping"
      ],
      "metadata": {
        "id": "9ebpb-Q-oUgk"
      }
    },
    {
      "cell_type": "code",
      "source": [
        "def reshape_data(features, time_steps=50):\n",
        "    num_samples = len(features)\n",
        "    num_features = features.shape[1]\n",
        "    if num_samples % time_steps != 0:\n",
        "        raise ValueError(\"Number of samples must be divisible by time_steps for reshaping.\")\n",
        "\n",
        "    reshaped_data = features.values.reshape(num_samples // time_steps, time_steps, num_features)\n",
        "    return reshaped_data\n"
      ],
      "metadata": {
        "id": "mtFoI6non23t"
      },
      "execution_count": 20,
      "outputs": []
    },
    {
      "cell_type": "markdown",
      "source": [
        "## Splitting of the Data for training and testing"
      ],
      "metadata": {
        "id": "S72ivADioWqV"
      }
    },
    {
      "cell_type": "code",
      "source": [
        "def train_test_split_manual(data, labels, test_size=0.2):\n",
        "    num_samples = len(data)\n",
        "    indices = np.random.permutation(num_samples)\n",
        "    split_idx = int(num_samples * (1 - test_size))\n",
        "    X_train = data[indices[:split_idx]]\n",
        "    X_test = data[indices[split_idx:]]\n",
        "\n",
        "    y_train = labels.iloc[indices[:split_idx]]\n",
        "    y_test = labels.iloc[indices[split_idx:]]\n",
        "\n",
        "    return X_train, X_test, y_train, y_test"
      ],
      "metadata": {
        "id": "wx9jGtHmn6WG"
      },
      "execution_count": 23,
      "outputs": []
    },
    {
      "cell_type": "markdown",
      "source": [
        "## Class Weight Computation"
      ],
      "metadata": {
        "id": "uxZPs11XoaVf"
      }
    },
    {
      "cell_type": "code",
      "source": [
        "def compute_class_weights(labels):\n",
        "    class_counts = labels.value_counts()\n",
        "    total_samples = len(labels)\n",
        "    class_weights = {cls: total_samples / (len(class_counts) * count) for cls, count in class_counts.items()}\n",
        "    return class_weights"
      ],
      "metadata": {
        "id": "8WeiT-C8oGFH"
      },
      "execution_count": 22,
      "outputs": []
    },
    {
      "cell_type": "markdown",
      "source": [
        "## Data Preprocessing Pipeline"
      ],
      "metadata": {
        "id": "7cdsouGRoc5U"
      }
    },
    {
      "cell_type": "code",
      "source": [
        "def preprocess_data(data, time_steps=50):\n",
        "    labels = data[\"Label\"]\n",
        "    features = data.drop(columns=[\"Label\"])\n",
        "    standardized_features = manual_standardization(features)\n",
        "    reshaped_data = reshape_data(standardized_features, time_steps)\n",
        "    X_train, X_test, y_train, y_test = train_test_split_manual(reshaped_data, labels)\n",
        "    class_weights = compute_class_weights(y_train)\n",
        "    return X_train, X_test, y_train, y_test, class_weights\n",
        "\n",
        "X_train, X_test, y_train, y_test, class_weights = preprocess_data(data)\n",
        "\n",
        "print(f\"Train data shape: {X_train.shape}, Test data shape: {X_test.shape}\")\n",
        "print(f\"Class weights: {class_weights}\")\n",
        "\n"
      ],
      "metadata": {
        "id": "pxB2hQ6EdSjw",
        "colab": {
          "base_uri": "https://localhost:8080/"
        },
        "outputId": "5d8ff468-8b7e-44b8-d7a5-895020ab4cc7"
      },
      "execution_count": 24,
      "outputs": [
        {
          "output_type": "stream",
          "name": "stdout",
          "text": [
            "Train data shape: (16, 50, 250), Test data shape: (4, 50, 250)\n",
            "Class weights: {0.0: 0.8, 1.0: 1.3333333333333333}\n"
          ]
        }
      ]
    },
    {
      "cell_type": "markdown",
      "source": [
        "# Data Visualization"
      ],
      "metadata": {
        "id": "kWY348X9pD16"
      }
    },
    {
      "cell_type": "code",
      "source": [
        "# Plot for understanding distribution of Noraml and Faulty Sample\n",
        "\n",
        "plt.figure(figsize=(8, 6))\n",
        "sns.countplot(x=data['Label'])\n",
        "plt.title(\"Distribution of Normal (0) and Faulty (1) Samples\")\n",
        "plt.xlabel(\"Label\")\n",
        "plt.ylabel(\"Count\")\n",
        "plt.xticks([0, 1], ['Normal (0)', 'Faulty (1)'])\n",
        "plt.show()\n"
      ],
      "metadata": {
        "colab": {
          "base_uri": "https://localhost:8080/",
          "height": 564
        },
        "id": "NxJ-jWttdeYX",
        "outputId": "5e0b7d49-6b2e-4bd5-e6fd-e5eb9939ca9d"
      },
      "execution_count": 27,
      "outputs": [
        {
          "output_type": "display_data",
          "data": {
            "text/plain": [
              "<Figure size 800x600 with 1 Axes>"
            ],
            "image/png": "[encoded data removed]"
          },
          "metadata": {}
        }
      ]
    },
    {
      "cell_type": "code",
      "source": [
        "# For visualizing how a single feature behaves over time,\n",
        "\n",
        "random_sample_idx = np.random.randint(0, len(data))\n",
        "feature_idx = 0\n",
        "time_steps = 50\n",
        "\n",
        "plt.figure(figsize=(10, 6))\n",
        "plt.plot(data.iloc[random_sample_idx, 1:time_steps+1].values)\n",
        "plt.title(f\"Time Series of Feature {feature_idx} for Sample {random_sample_idx}\")\n",
        "plt.xlabel(\"Time Steps\")\n",
        "plt.ylabel(\"Sensor Reading\")\n",
        "plt.show()"
      ],
      "metadata": {
        "colab": {
          "base_uri": "https://localhost:8080/",
          "height": 564
        },
        "id": "s5UKpdgXlyJ-",
        "outputId": "f4ac390d-a9b2-47d7-e8de-368d3f8ce361"
      },
      "execution_count": 28,
      "outputs": [
        {
          "output_type": "display_data",
          "data": {
            "text/plain": [
              "<Figure size 1000x600 with 1 Axes>"
            ],
            "image/png": "[encoded data removed]"
          },
          "metadata": {}
        }
      ]
    },
    {
      "cell_type": "markdown",
      "source": [
        "# LSTM Model for Classification"
      ],
      "metadata": {
        "id": "ISubFKYtryN7"
      }
    },
    {
      "cell_type": "code",
      "source": [
        "import numpy as np\n",
        "import tensorflow as tf\n",
        "from tensorflow.keras.models import Sequential\n",
        "from tensorflow.keras.layers import LSTM, GRU, Dense, Dropout, Bidirectional\n",
        "from tensorflow.keras.callbacks import EarlyStopping\n"
      ],
      "metadata": {
        "id": "OmcCMsGepv_j"
      },
      "execution_count": 41,
      "outputs": []
    },
    {
      "cell_type": "code",
      "source": [
        "def create_improved_lstm_model(input_shape):\n",
        "    model = Sequential()\n",
        "\n",
        "\n",
        "    model.add(Bidirectional(LSTM(units=100, return_sequences=True), input_shape=input_shape))\n",
        "    model.add(Dropout(0.3))\n",
        "\n",
        "\n",
        "    model.add(Bidirectional(LSTM(units=100, return_sequences=True)))\n",
        "    model.add(Dropout(0.3))\n",
        "\n",
        "    model.add(LSTM(units=50, return_sequences=False))\n",
        "    model.add(Dropout(0.3))\n",
        "\n",
        "    model.add(Dense(units=1, activation='sigmoid'))\n",
        "\n",
        "    return model"
      ],
      "metadata": {
        "id": "d7VnpLVFr_W9"
      },
      "execution_count": 42,
      "outputs": []
    },
    {
      "cell_type": "code",
      "source": [
        "input_shape = (X_train.shape[1], X_train.shape[2])\n",
        "model = create_improved_lstm_model(input_shape)\n",
        "model.compile(optimizer='adam', loss='binary_crossentropy', metrics=['accuracy'])"
      ],
      "metadata": {
        "colab": {
          "base_uri": "https://localhost:8080/"
        },
        "id": "SVC5MNt1sCLB",
        "outputId": "816d0150-b37a-4d1b-b17d-56030c87347e"
      },
      "execution_count": 43,
      "outputs": [
        {
          "output_type": "stream",
          "name": "stderr",
          "text": [
            "/usr/local/lib/python3.10/dist-packages/keras/src/layers/rnn/bidirectional.py:107: UserWarning: Do not pass an `input_shape`/`input_dim` argument to a layer. When using Sequential models, prefer using an `Input(shape)` object as the first layer in the model instead.\n",
            "  super().__init__(**kwargs)\n"
          ]
        }
      ]
    },
    {
      "cell_type": "code",
      "source": [
        "model.summary()"
      ],
      "metadata": {
        "colab": {
          "base_uri": "https://localhost:8080/",
          "height": 369
        },
        "id": "jhhOEH1rsgje",
        "outputId": "01ca0e92-9a0a-4669-84b5-a94cba8232aa"
      },
      "execution_count": 45,
      "outputs": [
        {
          "output_type": "display_data",
          "data": {
            "text/plain": [
              "\u001b[1mModel: \"sequential_5\"\u001b[0m\n"
            ],
            "text/html": [
              "<pre style=\"white-space:pre;overflow-x:auto;line-height:normal;font-family:Menlo,'DejaVu Sans Mono',consolas,'Courier New',monospace\"><span style=\"font-weight: bold\">Model: \"sequential_5\"</span>\n",
              "</pre>\n"
            ]
          },
          "metadata": {}
        },
        {
          "output_type": "display_data",
          "data": {
            "text/plain": [
              "┏━━━━━━━━━━━━━━━━━━━━━━━━━━━━━━━━━━━━━━┳━━━━━━━━━━━━━━━━━━━━━━━━━━━━━┳━━━━━━━━━━━━━━━━━┓\n",
              "┃\u001b[1m \u001b[0m\u001b[1mLayer (type)                        \u001b[0m\u001b[1m \u001b[0m┃\u001b[1m \u001b[0m\u001b[1mOutput Shape               \u001b[0m\u001b[1m \u001b[0m┃\u001b[1m \u001b[0m\u001b[1m        Param #\u001b[0m\u001b[1m \u001b[0m┃\n",
              "┡━━━━━━━━━━━━━━━━━━━━━━━━━━━━━━━━━━━━━━╇━━━━━━━━━━━━━━━━━━━━━━━━━━━━━╇━━━━━━━━━━━━━━━━━┩\n",
              "│ bidirectional_6 (\u001b[38;5;33mBidirectional\u001b[0m)      │ (\u001b[38;5;45mNone\u001b[0m, \u001b[38;5;34m50\u001b[0m, \u001b[38;5;34m200\u001b[0m)             │         \u001b[38;5;34m280,800\u001b[0m │\n",
              "├──────────────────────────────────────┼─────────────────────────────┼─────────────────┤\n",
              "│ dropout_13 (\u001b[38;5;33mDropout\u001b[0m)                 │ (\u001b[38;5;45mNone\u001b[0m, \u001b[38;5;34m50\u001b[0m, \u001b[38;5;34m200\u001b[0m)             │               \u001b[38;5;34m0\u001b[0m │\n",
              "├──────────────────────────────────────┼─────────────────────────────┼─────────────────┤\n",
              "│ bidirectional_7 (\u001b[38;5;33mBidirectional\u001b[0m)      │ (\u001b[38;5;45mNone\u001b[0m, \u001b[38;5;34m50\u001b[0m, \u001b[38;5;34m200\u001b[0m)             │         \u001b[38;5;34m240,800\u001b[0m │\n",
              "├──────────────────────────────────────┼─────────────────────────────┼─────────────────┤\n",
              "│ dropout_14 (\u001b[38;5;33mDropout\u001b[0m)                 │ (\u001b[38;5;45mNone\u001b[0m, \u001b[38;5;34m50\u001b[0m, \u001b[38;5;34m200\u001b[0m)             │               \u001b[38;5;34m0\u001b[0m │\n",
              "├──────────────────────────────────────┼─────────────────────────────┼─────────────────┤\n",
              "│ lstm_15 (\u001b[38;5;33mLSTM\u001b[0m)                       │ (\u001b[38;5;45mNone\u001b[0m, \u001b[38;5;34m50\u001b[0m)                  │          \u001b[38;5;34m50,200\u001b[0m │\n",
              "├──────────────────────────────────────┼─────────────────────────────┼─────────────────┤\n",
              "│ dropout_15 (\u001b[38;5;33mDropout\u001b[0m)                 │ (\u001b[38;5;45mNone\u001b[0m, \u001b[38;5;34m50\u001b[0m)                  │               \u001b[38;5;34m0\u001b[0m │\n",
              "├──────────────────────────────────────┼─────────────────────────────┼─────────────────┤\n",
              "│ dense_5 (\u001b[38;5;33mDense\u001b[0m)                      │ (\u001b[38;5;45mNone\u001b[0m, \u001b[38;5;34m1\u001b[0m)                   │              \u001b[38;5;34m51\u001b[0m │\n",
              "└──────────────────────────────────────┴─────────────────────────────┴─────────────────┘\n"
            ],
            "text/html": [
              "<pre style=\"white-space:pre;overflow-x:auto;line-height:normal;font-family:Menlo,'DejaVu Sans Mono',consolas,'Courier New',monospace\">┏━━━━━━━━━━━━━━━━━━━━━━━━━━━━━━━━━━━━━━┳━━━━━━━━━━━━━━━━━━━━━━━━━━━━━┳━━━━━━━━━━━━━━━━━┓\n",
              "┃<span style=\"font-weight: bold\"> Layer (type)                         </span>┃<span style=\"font-weight: bold\"> Output Shape                </span>┃<span style=\"font-weight: bold\">         Param # </span>┃\n",
              "┡━━━━━━━━━━━━━━━━━━━━━━━━━━━━━━━━━━━━━━╇━━━━━━━━━━━━━━━━━━━━━━━━━━━━━╇━━━━━━━━━━━━━━━━━┩\n",
              "│ bidirectional_6 (<span style=\"color: #0087ff; text-decoration-color: #0087ff\">Bidirectional</span>)      │ (<span style=\"color: #00d7ff; text-decoration-color: #00d7ff\">None</span>, <span style=\"color: #00af00; text-decoration-color: #00af00\">50</span>, <span style=\"color: #00af00; text-decoration-color: #00af00\">200</span>)             │         <span style=\"color: #00af00; text-decoration-color: #00af00\">280,800</span> │\n",
              "├──────────────────────────────────────┼─────────────────────────────┼─────────────────┤\n",
              "│ dropout_13 (<span style=\"color: #0087ff; text-decoration-color: #0087ff\">Dropout</span>)                 │ (<span style=\"color: #00d7ff; text-decoration-color: #00d7ff\">None</span>, <span style=\"color: #00af00; text-decoration-color: #00af00\">50</span>, <span style=\"color: #00af00; text-decoration-color: #00af00\">200</span>)             │               <span style=\"color: #00af00; text-decoration-color: #00af00\">0</span> │\n",
              "├──────────────────────────────────────┼─────────────────────────────┼─────────────────┤\n",
              "│ bidirectional_7 (<span style=\"color: #0087ff; text-decoration-color: #0087ff\">Bidirectional</span>)      │ (<span style=\"color: #00d7ff; text-decoration-color: #00d7ff\">None</span>, <span style=\"color: #00af00; text-decoration-color: #00af00\">50</span>, <span style=\"color: #00af00; text-decoration-color: #00af00\">200</span>)             │         <span style=\"color: #00af00; text-decoration-color: #00af00\">240,800</span> │\n",
              "├──────────────────────────────────────┼─────────────────────────────┼─────────────────┤\n",
              "│ dropout_14 (<span style=\"color: #0087ff; text-decoration-color: #0087ff\">Dropout</span>)                 │ (<span style=\"color: #00d7ff; text-decoration-color: #00d7ff\">None</span>, <span style=\"color: #00af00; text-decoration-color: #00af00\">50</span>, <span style=\"color: #00af00; text-decoration-color: #00af00\">200</span>)             │               <span style=\"color: #00af00; text-decoration-color: #00af00\">0</span> │\n",
              "├──────────────────────────────────────┼─────────────────────────────┼─────────────────┤\n",
              "│ lstm_15 (<span style=\"color: #0087ff; text-decoration-color: #0087ff\">LSTM</span>)                       │ (<span style=\"color: #00d7ff; text-decoration-color: #00d7ff\">None</span>, <span style=\"color: #00af00; text-decoration-color: #00af00\">50</span>)                  │          <span style=\"color: #00af00; text-decoration-color: #00af00\">50,200</span> │\n",
              "├──────────────────────────────────────┼─────────────────────────────┼─────────────────┤\n",
              "│ dropout_15 (<span style=\"color: #0087ff; text-decoration-color: #0087ff\">Dropout</span>)                 │ (<span style=\"color: #00d7ff; text-decoration-color: #00d7ff\">None</span>, <span style=\"color: #00af00; text-decoration-color: #00af00\">50</span>)                  │               <span style=\"color: #00af00; text-decoration-color: #00af00\">0</span> │\n",
              "├──────────────────────────────────────┼─────────────────────────────┼─────────────────┤\n",
              "│ dense_5 (<span style=\"color: #0087ff; text-decoration-color: #0087ff\">Dense</span>)                      │ (<span style=\"color: #00d7ff; text-decoration-color: #00d7ff\">None</span>, <span style=\"color: #00af00; text-decoration-color: #00af00\">1</span>)                   │              <span style=\"color: #00af00; text-decoration-color: #00af00\">51</span> │\n",
              "└──────────────────────────────────────┴─────────────────────────────┴─────────────────┘\n",
              "</pre>\n"
            ]
          },
          "metadata": {}
        },
        {
          "output_type": "display_data",
          "data": {
            "text/plain": [
              "\u001b[1m Total params: \u001b[0m\u001b[38;5;34m1,715,555\u001b[0m (6.54 MB)\n"
            ],
            "text/html": [
              "<pre style=\"white-space:pre;overflow-x:auto;line-height:normal;font-family:Menlo,'DejaVu Sans Mono',consolas,'Courier New',monospace\"><span style=\"font-weight: bold\"> Total params: </span><span style=\"color: #00af00; text-decoration-color: #00af00\">1,715,555</span> (6.54 MB)\n",
              "</pre>\n"
            ]
          },
          "metadata": {}
        },
        {
          "output_type": "display_data",
          "data": {
            "text/plain": [
              "\u001b[1m Trainable params: \u001b[0m\u001b[38;5;34m571,851\u001b[0m (2.18 MB)\n"
            ],
            "text/html": [
              "<pre style=\"white-space:pre;overflow-x:auto;line-height:normal;font-family:Menlo,'DejaVu Sans Mono',consolas,'Courier New',monospace\"><span style=\"font-weight: bold\"> Trainable params: </span><span style=\"color: #00af00; text-decoration-color: #00af00\">571,851</span> (2.18 MB)\n",
              "</pre>\n"
            ]
          },
          "metadata": {}
        },
        {
          "output_type": "display_data",
          "data": {
            "text/plain": [
              "\u001b[1m Non-trainable params: \u001b[0m\u001b[38;5;34m0\u001b[0m (0.00 B)\n"
            ],
            "text/html": [
              "<pre style=\"white-space:pre;overflow-x:auto;line-height:normal;font-family:Menlo,'DejaVu Sans Mono',consolas,'Courier New',monospace\"><span style=\"font-weight: bold\"> Non-trainable params: </span><span style=\"color: #00af00; text-decoration-color: #00af00\">0</span> (0.00 B)\n",
              "</pre>\n"
            ]
          },
          "metadata": {}
        },
        {
          "output_type": "display_data",
          "data": {
            "text/plain": [
              "\u001b[1m Optimizer params: \u001b[0m\u001b[38;5;34m1,143,704\u001b[0m (4.36 MB)\n"
            ],
            "text/html": [
              "<pre style=\"white-space:pre;overflow-x:auto;line-height:normal;font-family:Menlo,'DejaVu Sans Mono',consolas,'Courier New',monospace\"><span style=\"font-weight: bold\"> Optimizer params: </span><span style=\"color: #00af00; text-decoration-color: #00af00\">1,143,704</span> (4.36 MB)\n",
              "</pre>\n"
            ]
          },
          "metadata": {}
        }
      ]
    },
    {
      "cell_type": "code",
      "source": [
        "early_stopping = EarlyStopping(monitor='val_loss', patience=5, restore_best_weights=True)\n",
        "\n",
        "history = model.fit(X_train, y_train, epochs=50, batch_size=64, validation_data=(X_test, y_test), callbacks=[early_stopping])"
      ],
      "metadata": {
        "colab": {
          "base_uri": "https://localhost:8080/"
        },
        "id": "9omyTp8RsUWR",
        "outputId": "9a02ca24-5e99-4038-fe1a-cbe1677ffc35"
      },
      "execution_count": 44,
      "outputs": [
        {
          "output_type": "stream",
          "name": "stdout",
          "text": [
            "Epoch 1/50\n",
            "\u001b[1m1/1\u001b[0m \u001b[32m━━━━━━━━━━━━━━━━━━━━\u001b[0m\u001b[37m\u001b[0m \u001b[1m9s\u001b[0m 9s/step - accuracy: 0.5000 - loss: 0.7053 - val_accuracy: 0.5000 - val_loss: 0.6471\n",
            "Epoch 2/50\n",
            "\u001b[1m1/1\u001b[0m \u001b[32m━━━━━━━━━━━━━━━━━━━━\u001b[0m\u001b[37m\u001b[0m \u001b[1m1s\u001b[0m 1s/step - accuracy: 0.8125 - loss: 0.6116 - val_accuracy: 0.5000 - val_loss: 0.6292\n",
            "Epoch 3/50\n",
            "\u001b[1m1/1\u001b[0m \u001b[32m━━━━━━━━━━━━━━━━━━━━\u001b[0m\u001b[37m\u001b[0m \u001b[1m0s\u001b[0m 479ms/step - accuracy: 0.7500 - loss: 0.5441 - val_accuracy: 0.5000 - val_loss: 0.6145\n",
            "Epoch 4/50\n",
            "\u001b[1m1/1\u001b[0m \u001b[32m━━━━━━━━━━━━━━━━━━━━\u001b[0m\u001b[37m\u001b[0m \u001b[1m1s\u001b[0m 568ms/step - accuracy: 0.8125 - loss: 0.4679 - val_accuracy: 0.7500 - val_loss: 0.5921\n",
            "Epoch 5/50\n",
            "\u001b[1m1/1\u001b[0m \u001b[32m━━━━━━━━━━━━━━━━━━━━\u001b[0m\u001b[37m\u001b[0m \u001b[1m0s\u001b[0m 259ms/step - accuracy: 0.8750 - loss: 0.3920 - val_accuracy: 0.7500 - val_loss: 0.5831\n",
            "Epoch 6/50\n",
            "\u001b[1m1/1\u001b[0m \u001b[32m━━━━━━━━━━━━━━━━━━━━\u001b[0m\u001b[37m\u001b[0m \u001b[1m0s\u001b[0m 294ms/step - accuracy: 0.8750 - loss: 0.3225 - val_accuracy: 0.7500 - val_loss: 0.6048\n",
            "Epoch 7/50\n",
            "\u001b[1m1/1\u001b[0m \u001b[32m━━━━━━━━━━━━━━━━━━━━\u001b[0m\u001b[37m\u001b[0m \u001b[1m0s\u001b[0m 290ms/step - accuracy: 1.0000 - loss: 0.2903 - val_accuracy: 0.7500 - val_loss: 0.6363\n",
            "Epoch 8/50\n",
            "\u001b[1m1/1\u001b[0m \u001b[32m━━━━━━━━━━━━━━━━━━━━\u001b[0m\u001b[37m\u001b[0m \u001b[1m0s\u001b[0m 276ms/step - accuracy: 1.0000 - loss: 0.2242 - val_accuracy: 0.7500 - val_loss: 0.6439\n",
            "Epoch 9/50\n",
            "\u001b[1m1/1\u001b[0m \u001b[32m━━━━━━━━━━━━━━━━━━━━\u001b[0m\u001b[37m\u001b[0m \u001b[1m0s\u001b[0m 259ms/step - accuracy: 1.0000 - loss: 0.1691 - val_accuracy: 0.7500 - val_loss: 0.6587\n",
            "Epoch 10/50\n",
            "\u001b[1m1/1\u001b[0m \u001b[32m━━━━━━━━━━━━━━━━━━━━\u001b[0m\u001b[37m\u001b[0m \u001b[1m0s\u001b[0m 336ms/step - accuracy: 1.0000 - loss: 0.1194 - val_accuracy: 0.7500 - val_loss: 0.7355\n"
          ]
        }
      ]
    },
    {
      "cell_type": "code",
      "source": [
        "plt.figure(figsize=(10, 6))\n",
        "plt.plot(history.history['loss'], label='Training Loss')\n",
        "plt.plot(history.history['val_loss'], label='Validation Loss')\n",
        "plt.title(\"Model Loss During Training\")\n",
        "plt.xlabel(\"Epochs\")\n",
        "plt.ylabel(\"Loss\")\n",
        "plt.legend()\n",
        "plt.show()\n",
        "\n",
        "\n",
        "plt.figure(figsize=(10, 6))\n",
        "plt.plot(history.history['accuracy'], label='Training Accuracy')\n",
        "plt.plot(history.history['val_accuracy'], label='Validation Accuracy')\n",
        "plt.title(\"Model Accuracy During Training\")\n",
        "plt.xlabel(\"Epochs\")\n",
        "plt.ylabel(\"Accuracy\")\n",
        "plt.legend()\n",
        "plt.show()\n"
      ],
      "metadata": {
        "colab": {
          "base_uri": "https://localhost:8080/",
          "height": 1000
        },
        "id": "GvgNTd1zqrBK",
        "outputId": "b27c56b9-88bc-4fd7-ac5a-3f248b4df04a"
      },
      "execution_count": 46,
      "outputs": [
        {
          "output_type": "display_data",
          "data": {
            "text/plain": [
              "<Figure size 1000x600 with 1 Axes>"
            ],
            "image/png": "[encoded data removed]"
          },
          "metadata": {}
        },
        {
          "output_type": "display_data",
          "data": {
            "text/plain": [
              "<Figure size 1000x600 with 1 Axes>"
            ],
            "image/png": "[encoded data removed]"
          },
          "metadata": {}
        }
      ]
    },
    {
      "cell_type": "code",
      "source": [
        "test_loss, test_accuracy = model.evaluate(X_test, y_test)\n",
        "print(f\"Test Accuracy: {test_accuracy * 100:.2f}%\")"
      ],
      "metadata": {
        "colab": {
          "base_uri": "https://localhost:8080/"
        },
        "id": "c8K4fJkbsH3e",
        "outputId": "59bdfc02-9324-401b-ea7e-9162f27f20ce"
      },
      "execution_count": 47,
      "outputs": [
        {
          "output_type": "stream",
          "name": "stdout",
          "text": [
            "\u001b[1m1/1\u001b[0m \u001b[32m━━━━━━━━━━━━━━━━━━━━\u001b[0m\u001b[37m\u001b[0m \u001b[1m0s\u001b[0m 63ms/step - accuracy: 0.7500 - loss: 0.5831\n",
            "Test Accuracy: 75.00%\n"
          ]
        }
      ]
    },
    {
      "cell_type": "code",
      "source": [],
      "metadata": {
        "id": "v2X3JK7HskHS"
      },
      "execution_count": null,
      "outputs": []
    }
  ]
}