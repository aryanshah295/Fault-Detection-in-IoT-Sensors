{
  "nbformat": 4,
  "nbformat_minor": 0,
  "metadata": {
    "colab": {
      "provenance": []
    },
    "kernelspec": {
      "name": "python3",
      "display_name": "Python 3"
    },
    "language_info": {
      "name": "python"
    }
  },
  "cells": [
    {
      "cell_type": "markdown",
      "source": [
        "# IDMP - Final Project -  Data Integration Pipeline for IOT Sensor Data"
      ],
      "metadata": {
        "id": "bylXZ38AnCjw"
      }
    },
    {
      "cell_type": "code",
      "source": [
        "import pandas as pd\n",
        "import numpy as np\n",
        "import matplotlib.pyplot as plt\n",
        "import seaborn as sns\n"
      ],
      "metadata": {
        "id": "4tJwIMpVnD9x"
      },
      "execution_count": 72,
      "outputs": []
    },
    {
      "cell_type": "markdown",
      "source": [
        "\n",
        "    This function generates synthetic IoT sensor data for a given number of samples.\n",
        "    Each sample consists of a time series with multiple features. The function also introduces\n",
        "    faults in the data with a given probability and different types of anomalies in the sensor readings.\n",
        "\n",
        "    Parameters:\n",
        "    - num_samples (int): The number of data samples to generate (default is 5000).\n",
        "    - time_steps (int): The number of time steps for each data sample (default is 50).\n",
        "    - num_features (int): The number of features (sensors) for each data sample (default is 12).\n",
        "    - fault_probability (float): The probability that a sample will have a fault (default is 0.2).\n",
        "\n",
        "    Returns:\n",
        "    - X (numpy.ndarray): A 3D array of shape (num_samples, time_steps, num_features) representing the\n",
        "                          sensor data, with possible faults (anomalies).\n",
        "    - y (numpy.ndarray): A 1D array of shape (num_samples,) containing binary labels, where 1 indicates\n",
        "                          a faulty sample and 0 indicates a normal sample.\n"
      ],
      "metadata": {
        "id": "TYYayFWA-IK9"
      }
    },
    {
      "cell_type": "code",
      "source": [
        "import numpy as np\n",
        "import matplotlib.pyplot as plt\n",
        "\n",
        "def generate_iot_sensor_data(num_samples=5000, time_steps=50, num_features=12, fault_probability=0.2):\n",
        "\n",
        "    X = np.zeros((num_samples, time_steps, num_features))\n",
        "    y = np.zeros(num_samples)\n",
        "\n",
        "    for i in range(num_samples):\n",
        "        normal_sequence = np.random.normal(loc=0.5, scale=0.1, size=(time_steps, num_features))\n",
        "        X[i] = normal_sequence\n",
        "        if np.random.rand() < fault_probability:\n",
        "            y[i] = 1\n",
        "            num_faulty_features = np.random.randint(1, num_features // 2 + 1)\n",
        "            faulty_features = np.random.choice(num_features, num_faulty_features, replace=False)\n",
        "            for feature in faulty_features:\n",
        "                anomaly_type = np.random.choice([\"spike\", \"drift\"])\n",
        "                if anomaly_type == \"spike\":\n",
        "                    X[i, :, feature] += np.random.normal(loc=2, scale=0.5, size=time_steps)\n",
        "                elif anomaly_type == \"drift\":\n",
        "                    X[i, :, feature] += np.linspace(0, np.random.uniform(1, 2), time_steps)\n",
        "\n",
        "    return X, y\n",
        "\n",
        "\n",
        "num_samples = 1000\n",
        "time_steps = 50\n",
        "num_features = 6\n",
        "fault_probability = 0.3\n",
        "\n",
        "X, y = generate_iot_sensor_data(num_samples, time_steps, num_features, fault_probability)\n",
        "\n",
        "print(f\"Data shape (X): {X.shape}\")\n",
        "print(f\"Labels shape (y): {y.shape}\")"
      ],
      "metadata": {
        "colab": {
          "base_uri": "https://localhost:8080/"
        },
        "id": "YccE95OKm-d2",
        "outputId": "26866530-530f-4e84-9ad7-f1891575baa0"
      },
      "execution_count": 152,
      "outputs": [
        {
          "output_type": "stream",
          "name": "stdout",
          "text": [
            "Data shape (X): (1000, 50, 6)\n",
            "Labels shape (y): (1000,)\n"
          ]
        }
      ]
    },
    {
      "cell_type": "markdown",
      "source": [
        "## Saving the loading the dataset into a CSV file\n",
        "\n",
        "#### Function: `save_to_csv`\n",
        "\n",
        "- **Parameters**:\n",
        "  - `X`: 3D array of shape `(num_samples, time_steps, num_features)` containing sensor data.\n",
        "  - `y`: 1D array of shape `(num_samples,)` containing labels (1 for faulty, 0 for normal).\n",
        "  - `filename`: Output CSV file name (default is `\"iot_sensor_dataset.csv\"`).\n",
        "\n",
        "- **Process**:\n",
        "  1. **Flatten**: Reshape `X` into 2D (`num_samples, time_steps * num_features`).\n",
        "  2. **Combine**: Stack the flattened data with labels `y`.\n",
        "  3. **Column Naming**: Generate sensor column names like `\"Sensor_i_Tj\"`.\n",
        "  4. **Save**: Create a pandas DataFrame and save it as a CSV file.\n",
        "\n",
        "- **Output**: A CSV file containing the sensor data and labels.\n"
      ],
      "metadata": {
        "id": "f3nDFu93CyPc"
      }
    },
    {
      "cell_type": "code",
      "source": [
        "import pandas as pd\n",
        "\n",
        "def save_to_csv(X, y, filename=\"iot_sensor_dataset.csv\"):\n",
        "\n",
        "    num_samples, time_steps, num_features = X.shape\n",
        "    X_flattened = X.reshape(num_samples, time_steps * num_features)\n",
        "\n",
        "    data = np.hstack((X_flattened, y.reshape(-1, 1)))\n",
        "\n",
        "    feature_columns = [f\"Sensor_{i}_T{j}\" for i in range(num_features) for j in range(time_steps)]\n",
        "    columns = feature_columns + [\"Label\"]\n",
        "    df = pd.DataFrame(data, columns=columns)\n",
        "\n",
        "    # Save to CSV\n",
        "    df.to_csv(filename, index=False)\n",
        "    print(f\"Dataset saved to {filename}\")\n",
        "\n",
        "save_to_csv(X, y, filename=\"iot_sensor_dataset.csv\")\n"
      ],
      "metadata": {
        "colab": {
          "base_uri": "https://localhost:8080/"
        },
        "id": "lMsW6_pKTp8T",
        "outputId": "9187e8af-f0f7-4f37-a45f-c995bf5db666"
      },
      "execution_count": 153,
      "outputs": [
        {
          "output_type": "stream",
          "name": "stdout",
          "text": [
            "Dataset saved to iot_sensor_dataset.csv\n"
          ]
        }
      ]
    },
    {
      "cell_type": "code",
      "source": [
        "filename = \"iot_sensor_dataset.csv\"\n",
        "data = pd.read_csv(filename)\n",
        "print(data.shape)\n",
        "data.info\n"
      ],
      "metadata": {
        "colab": {
          "base_uri": "https://localhost:8080/",
          "height": 221
        },
        "id": "Oy76kl6Am5YK",
        "outputId": "8aff8752-c995-44ab-849e-5e96a1d8ef47"
      },
      "execution_count": 154,
      "outputs": [
        {
          "output_type": "stream",
          "name": "stdout",
          "text": [
            "(1000, 301)\n"
          ]
        },
        {
          "output_type": "execute_result",
          "data": {
            "text/plain": [
              "<bound method DataFrame.info of      Sensor_0_T0  Sensor_0_T1  Sensor_0_T2  Sensor_0_T3  Sensor_0_T4  \\\n",
              "0       0.539690     0.573059     0.502756     0.367415     0.517904   \n",
              "1       0.406028     2.198776     0.544606     0.502379     0.504412   \n",
              "2       0.474658     0.516575     0.519297     0.320544     0.752486   \n",
              "3       0.793831     0.455614     0.417628     0.389542     0.663583   \n",
              "4       0.589560     3.724895     0.509113     0.558897     0.460013   \n",
              "..           ...          ...          ...          ...          ...   \n",
              "995     0.521788     0.446953     0.412613     0.440998     0.507902   \n",
              "996     0.561531     0.637438     0.584543     0.534124     0.554074   \n",
              "997     0.516085     0.717084     0.542794     0.603306     0.596033   \n",
              "998     0.568653     0.554760     0.671961     0.722717     2.100670   \n",
              "999     0.482953     0.300987     0.581772     0.712510     0.575598   \n",
              "\n",
              "     Sensor_0_T5  Sensor_0_T6  Sensor_0_T7  Sensor_0_T8  Sensor_0_T9  ...  \\\n",
              "0       0.354343     0.346000     0.492913     0.507515     0.681239  ...   \n",
              "1       0.427919     0.528964     3.693560     0.485006     0.707156  ...   \n",
              "2       0.558079     0.444698     0.360844     0.402180     0.576796  ...   \n",
              "3       0.488466     0.472501     0.390259     0.385675     0.511390  ...   \n",
              "4       0.398432     0.345752     2.536753     0.334421     0.451556  ...   \n",
              "..           ...          ...          ...          ...          ...  ...   \n",
              "995     0.665931     0.366708     0.754385     0.470981     0.404588  ...   \n",
              "996     0.529911     0.382688     0.395905     0.653397     0.517350  ...   \n",
              "997     0.318994     0.562475     0.642903     0.469343     0.298625  ...   \n",
              "998     0.568267     0.629962     0.516149     0.429383     0.502334  ...   \n",
              "999     0.536150     0.547589     0.415378     0.581042     0.577612  ...   \n",
              "\n",
              "     Sensor_5_T41  Sensor_5_T42  Sensor_5_T43  Sensor_5_T44  Sensor_5_T45  \\\n",
              "0        0.519150      0.551433      0.438677      0.424585      0.447593   \n",
              "1        0.598852      1.854238      0.442287      0.525015      2.193789   \n",
              "2        0.423988      0.448186      0.462942      0.593246      0.587470   \n",
              "3        0.612330      0.584618      0.520368      0.526649      0.407730   \n",
              "4        0.358030      0.539587      0.540227      0.618075      2.954940   \n",
              "..            ...           ...           ...           ...           ...   \n",
              "995      0.349395      0.591639      0.752948      0.377911      0.610165   \n",
              "996      0.513998      0.389079      0.618129      0.364758      0.534161   \n",
              "997      0.537387      0.443000      0.472717      0.509171      0.487552   \n",
              "998      0.573341      2.694521      0.643485      0.547840      0.539493   \n",
              "999      0.419920      0.539610      1.897712      0.347377      1.705537   \n",
              "\n",
              "     Sensor_5_T46  Sensor_5_T47  Sensor_5_T48  Sensor_5_T49  Label  \n",
              "0        0.646303      0.557062      0.504327      0.645319    0.0  \n",
              "1        2.040863      0.748603      1.772247      0.517400    1.0  \n",
              "2        0.507198      0.720181      0.506013      0.551981    0.0  \n",
              "3        2.351007      0.467361      0.651571      0.465714    1.0  \n",
              "4        0.355596      0.575579      0.486009      0.483379    1.0  \n",
              "..            ...           ...           ...           ...    ...  \n",
              "995      0.465248      0.571480      0.520631      0.695297    0.0  \n",
              "996      0.555029      0.400843      0.483141      0.436557    0.0  \n",
              "997      0.333859      0.539050      0.473798      0.555748    0.0  \n",
              "998      0.521657      0.401103      2.539714      0.597463    1.0  \n",
              "999      0.506847      0.419655      0.599275      2.095234    1.0  \n",
              "\n",
              "[1000 rows x 301 columns]>"
            ],
            "text/html": [
              "<div style=\"max-width:800px; border: 1px solid var(--colab-border-color);\"><style>\n",
              "      pre.function-repr-contents {\n",
              "        overflow-x: auto;\n",
              "        padding: 8px 12px;\n",
              "        max-height: 500px;\n",
              "      }\n",
              "\n",
              "      pre.function-repr-contents.function-repr-contents-collapsed {\n",
              "        cursor: pointer;\n",
              "        max-height: 100px;\n",
              "      }\n",
              "    </style>\n",
              "    <pre style=\"white-space: initial; background:\n",
              "         var(--colab-secondary-surface-color); padding: 8px 12px;\n",
              "         border-bottom: 1px solid var(--colab-border-color);\"><b>pandas.core.frame.DataFrame.info</b><br/>def info(verbose: bool | None=None, buf: WriteBuffer[str] | None=None, max_cols: int | None=None, memory_usage: bool | str | None=None, show_counts: bool | None=None) -&gt; None</pre><pre class=\"function-repr-contents function-repr-contents-collapsed\" style=\"\"><a class=\"filepath\" style=\"display:none\" href=\"#\">/usr/local/lib/python3.10/dist-packages/pandas/core/frame.py</a>Print a concise summary of a DataFrame.\n",
              "\n",
              "This method prints information about a DataFrame including\n",
              "the index dtype and columns, non-null values and memory usage.\n",
              "\n",
              "Parameters\n",
              "----------\n",
              "verbose : bool, optional\n",
              "    Whether to print the full summary. By default, the setting in\n",
              "    ``pandas.options.display.max_info_columns`` is followed.\n",
              "buf : writable buffer, defaults to sys.stdout\n",
              "    Where to send the output. By default, the output is printed to\n",
              "    sys.stdout. Pass a writable buffer if you need to further process\n",
              "    the output.\n",
              "max_cols : int, optional\n",
              "    When to switch from the verbose to the truncated output. If the\n",
              "    DataFrame has more than `max_cols` columns, the truncated output\n",
              "    is used. By default, the setting in\n",
              "    ``pandas.options.display.max_info_columns`` is used.\n",
              "memory_usage : bool, str, optional\n",
              "    Specifies whether total memory usage of the DataFrame\n",
              "    elements (including the index) should be displayed. By default,\n",
              "    this follows the ``pandas.options.display.memory_usage`` setting.\n",
              "\n",
              "    True always show memory usage. False never shows memory usage.\n",
              "    A value of &#x27;deep&#x27; is equivalent to &quot;True with deep introspection&quot;.\n",
              "    Memory usage is shown in human-readable units (base-2\n",
              "    representation). Without deep introspection a memory estimation is\n",
              "    made based in column dtype and number of rows assuming values\n",
              "    consume the same memory amount for corresponding dtypes. With deep\n",
              "    memory introspection, a real memory usage calculation is performed\n",
              "    at the cost of computational resources. See the\n",
              "    :ref:`Frequently Asked Questions &lt;df-memory-usage&gt;` for more\n",
              "    details.\n",
              "show_counts : bool, optional\n",
              "    Whether to show the non-null counts. By default, this is shown\n",
              "    only if the DataFrame is smaller than\n",
              "    ``pandas.options.display.max_info_rows`` and\n",
              "    ``pandas.options.display.max_info_columns``. A value of True always\n",
              "    shows the counts, and False never shows the counts.\n",
              "\n",
              "Returns\n",
              "-------\n",
              "None\n",
              "    This method prints a summary of a DataFrame and returns None.\n",
              "\n",
              "See Also\n",
              "--------\n",
              "DataFrame.describe: Generate descriptive statistics of DataFrame\n",
              "    columns.\n",
              "DataFrame.memory_usage: Memory usage of DataFrame columns.\n",
              "\n",
              "Examples\n",
              "--------\n",
              "&gt;&gt;&gt; int_values = [1, 2, 3, 4, 5]\n",
              "&gt;&gt;&gt; text_values = [&#x27;alpha&#x27;, &#x27;beta&#x27;, &#x27;gamma&#x27;, &#x27;delta&#x27;, &#x27;epsilon&#x27;]\n",
              "&gt;&gt;&gt; float_values = [0.0, 0.25, 0.5, 0.75, 1.0]\n",
              "&gt;&gt;&gt; df = pd.DataFrame({&quot;int_col&quot;: int_values, &quot;text_col&quot;: text_values,\n",
              "...                   &quot;float_col&quot;: float_values})\n",
              "&gt;&gt;&gt; df\n",
              "    int_col text_col  float_col\n",
              "0        1    alpha       0.00\n",
              "1        2     beta       0.25\n",
              "2        3    gamma       0.50\n",
              "3        4    delta       0.75\n",
              "4        5  epsilon       1.00\n",
              "\n",
              "Prints information of all columns:\n",
              "\n",
              "&gt;&gt;&gt; df.info(verbose=True)\n",
              "&lt;class &#x27;pandas.core.frame.DataFrame&#x27;&gt;\n",
              "RangeIndex: 5 entries, 0 to 4\n",
              "Data columns (total 3 columns):\n",
              " #   Column     Non-Null Count  Dtype\n",
              "---  ------     --------------  -----\n",
              " 0   int_col    5 non-null      int64\n",
              " 1   text_col   5 non-null      object\n",
              " 2   float_col  5 non-null      float64\n",
              "dtypes: float64(1), int64(1), object(1)\n",
              "memory usage: 248.0+ bytes\n",
              "\n",
              "Prints a summary of columns count and its dtypes but not per column\n",
              "information:\n",
              "\n",
              "&gt;&gt;&gt; df.info(verbose=False)\n",
              "&lt;class &#x27;pandas.core.frame.DataFrame&#x27;&gt;\n",
              "RangeIndex: 5 entries, 0 to 4\n",
              "Columns: 3 entries, int_col to float_col\n",
              "dtypes: float64(1), int64(1), object(1)\n",
              "memory usage: 248.0+ bytes\n",
              "\n",
              "Pipe output of DataFrame.info to buffer instead of sys.stdout, get\n",
              "buffer content and writes to a text file:\n",
              "\n",
              "&gt;&gt;&gt; import io\n",
              "&gt;&gt;&gt; buffer = io.StringIO()\n",
              "&gt;&gt;&gt; df.info(buf=buffer)\n",
              "&gt;&gt;&gt; s = buffer.getvalue()\n",
              "&gt;&gt;&gt; with open(&quot;df_info.txt&quot;, &quot;w&quot;,\n",
              "...           encoding=&quot;utf-8&quot;) as f:  # doctest: +SKIP\n",
              "...     f.write(s)\n",
              "260\n",
              "\n",
              "The `memory_usage` parameter allows deep introspection mode, specially\n",
              "useful for big DataFrames and fine-tune memory optimization:\n",
              "\n",
              "&gt;&gt;&gt; random_strings_array = np.random.choice([&#x27;a&#x27;, &#x27;b&#x27;, &#x27;c&#x27;], 10 ** 6)\n",
              "&gt;&gt;&gt; df = pd.DataFrame({\n",
              "...     &#x27;column_1&#x27;: np.random.choice([&#x27;a&#x27;, &#x27;b&#x27;, &#x27;c&#x27;], 10 ** 6),\n",
              "...     &#x27;column_2&#x27;: np.random.choice([&#x27;a&#x27;, &#x27;b&#x27;, &#x27;c&#x27;], 10 ** 6),\n",
              "...     &#x27;column_3&#x27;: np.random.choice([&#x27;a&#x27;, &#x27;b&#x27;, &#x27;c&#x27;], 10 ** 6)\n",
              "... })\n",
              "&gt;&gt;&gt; df.info()\n",
              "&lt;class &#x27;pandas.core.frame.DataFrame&#x27;&gt;\n",
              "RangeIndex: 1000000 entries, 0 to 999999\n",
              "Data columns (total 3 columns):\n",
              " #   Column    Non-Null Count    Dtype\n",
              "---  ------    --------------    -----\n",
              " 0   column_1  1000000 non-null  object\n",
              " 1   column_2  1000000 non-null  object\n",
              " 2   column_3  1000000 non-null  object\n",
              "dtypes: object(3)\n",
              "memory usage: 22.9+ MB\n",
              "\n",
              "&gt;&gt;&gt; df.info(memory_usage=&#x27;deep&#x27;)\n",
              "&lt;class &#x27;pandas.core.frame.DataFrame&#x27;&gt;\n",
              "RangeIndex: 1000000 entries, 0 to 999999\n",
              "Data columns (total 3 columns):\n",
              " #   Column    Non-Null Count    Dtype\n",
              "---  ------    --------------    -----\n",
              " 0   column_1  1000000 non-null  object\n",
              " 1   column_2  1000000 non-null  object\n",
              " 2   column_3  1000000 non-null  object\n",
              "dtypes: object(3)\n",
              "memory usage: 165.9 MB</pre>\n",
              "      <script>\n",
              "      if (google.colab.kernel.accessAllowed && google.colab.files && google.colab.files.view) {\n",
              "        for (const element of document.querySelectorAll('.filepath')) {\n",
              "          element.style.display = 'block'\n",
              "          element.onclick = (event) => {\n",
              "            event.preventDefault();\n",
              "            event.stopPropagation();\n",
              "            google.colab.files.view(element.textContent, 3646);\n",
              "          };\n",
              "        }\n",
              "      }\n",
              "      for (const element of document.querySelectorAll('.function-repr-contents')) {\n",
              "        element.onclick = (event) => {\n",
              "          event.preventDefault();\n",
              "          event.stopPropagation();\n",
              "          element.classList.toggle('function-repr-contents-collapsed');\n",
              "        };\n",
              "      }\n",
              "      </script>\n",
              "      </div>"
            ]
          },
          "metadata": {},
          "execution_count": 154
        }
      ]
    },
    {
      "cell_type": "code",
      "source": [
        "data.describe()"
      ],
      "metadata": {
        "colab": {
          "base_uri": "https://localhost:8080/",
          "height": 349
        },
        "id": "WRX8WL8Nnuon",
        "outputId": "e7bdc000-dcd4-441a-a5c2-4c4d9a6af0b6"
      },
      "execution_count": 155,
      "outputs": [
        {
          "output_type": "execute_result",
          "data": {
            "text/plain": [
              "       Sensor_0_T0  Sensor_0_T1  Sensor_0_T2  Sensor_0_T3  Sensor_0_T4  \\\n",
              "count  1000.000000  1000.000000  1000.000000  1000.000000  1000.000000   \n",
              "mean      0.608189     0.596807     0.577532     0.604284     0.599922   \n",
              "std       0.481916     0.437438     0.406599     0.451694     0.463989   \n",
              "min       0.133569     0.141737     0.212289     0.175192     0.213819   \n",
              "25%       0.442244     0.441593     0.439146     0.434965     0.432095   \n",
              "50%       0.510787     0.511977     0.508904     0.509869     0.504786   \n",
              "75%       0.580612     0.585581     0.577048     0.584938     0.584035   \n",
              "max       3.566259     3.724895     3.727169     3.443209     3.463468   \n",
              "\n",
              "       Sensor_0_T5  Sensor_0_T6  Sensor_0_T7  Sensor_0_T8  Sensor_0_T9  ...  \\\n",
              "count  1000.000000  1000.000000  1000.000000  1000.000000  1000.000000  ...   \n",
              "mean      0.581992     0.612456     0.601124     0.580601     0.613204  ...   \n",
              "std       0.414753     0.487411     0.468152     0.425857     0.496115  ...   \n",
              "min       0.199141     0.196804     0.170951     0.224609     0.162545  ...   \n",
              "25%       0.439559     0.435724     0.445328     0.438056     0.437969  ...   \n",
              "50%       0.504382     0.511375     0.504024     0.505988     0.507105  ...   \n",
              "75%       0.581197     0.582325     0.579797     0.575745     0.585061  ...   \n",
              "max       3.881032     3.601398     3.693560     3.723905     3.666992  ...   \n",
              "\n",
              "       Sensor_5_T41  Sensor_5_T42  Sensor_5_T43  Sensor_5_T44  Sensor_5_T45  \\\n",
              "count   1000.000000   1000.000000   1000.000000   1000.000000   1000.000000   \n",
              "mean       0.694725      0.672013      0.629271      0.678099      0.678169   \n",
              "std        0.590804      0.547176      0.480452      0.553093      0.543631   \n",
              "min        0.243048      0.171416      0.206099      0.184148      0.093378   \n",
              "25%        0.440879      0.440694      0.442375      0.440422      0.447520   \n",
              "50%        0.515452      0.518052      0.507378      0.516267      0.521722   \n",
              "75%        0.598947      0.595520      0.581976      0.601501      0.605664   \n",
              "max        3.895424      3.878557      3.352653      3.388831      3.722318   \n",
              "\n",
              "       Sensor_5_T46  Sensor_5_T47  Sensor_5_T48  Sensor_5_T49        Label  \n",
              "count   1000.000000   1000.000000   1000.000000   1000.000000  1000.000000  \n",
              "mean       0.650997      0.687065      0.669686      0.633837     0.293000  \n",
              "std        0.530427      0.574252      0.548020      0.499184     0.455366  \n",
              "min        0.167814      0.227688      0.186849      0.186811     0.000000  \n",
              "25%        0.436129      0.436239      0.441082      0.438035     0.000000  \n",
              "50%        0.507095      0.515375      0.513437      0.508518     0.000000  \n",
              "75%        0.589257      0.597590      0.593886      0.590351     1.000000  \n",
              "max        3.238004      4.132183      3.772746      3.848727     1.000000  \n",
              "\n",
              "[8 rows x 301 columns]"
            ],
            "text/html": [
              "\n",
              "  <div id=\"df-817423e0-b701-443f-be4a-c40faf1e9e3c\" class=\"colab-df-container\">\n",
              "    <div>\n",
              "<style scoped>\n",
              "    .dataframe tbody tr th:only-of-type {\n",
              "        vertical-align: middle;\n",
              "    }\n",
              "\n",
              "    .dataframe tbody tr th {\n",
              "        vertical-align: top;\n",
              "    }\n",
              "\n",
              "    .dataframe thead th {\n",
              "        text-align: right;\n",
              "    }\n",
              "</style>\n",
              "<table border=\"1\" class=\"dataframe\">\n",
              "  <thead>\n",
              "    <tr style=\"text-align: right;\">\n",
              "      <th></th>\n",
              "      <th>Sensor_0_T0</th>\n",
              "      <th>Sensor_0_T1</th>\n",
              "      <th>Sensor_0_T2</th>\n",
              "      <th>Sensor_0_T3</th>\n",
              "      <th>Sensor_0_T4</th>\n",
              "      <th>Sensor_0_T5</th>\n",
              "      <th>Sensor_0_T6</th>\n",
              "      <th>Sensor_0_T7</th>\n",
              "      <th>Sensor_0_T8</th>\n",
              "      <th>Sensor_0_T9</th>\n",
              "      <th>...</th>\n",
              "      <th>Sensor_5_T41</th>\n",
              "      <th>Sensor_5_T42</th>\n",
              "      <th>Sensor_5_T43</th>\n",
              "      <th>Sensor_5_T44</th>\n",
              "      <th>Sensor_5_T45</th>\n",
              "      <th>Sensor_5_T46</th>\n",
              "      <th>Sensor_5_T47</th>\n",
              "      <th>Sensor_5_T48</th>\n",
              "      <th>Sensor_5_T49</th>\n",
              "      <th>Label</th>\n",
              "    </tr>\n",
              "  </thead>\n",
              "  <tbody>\n",
              "    <tr>\n",
              "      <th>count</th>\n",
              "      <td>1000.000000</td>\n",
              "      <td>1000.000000</td>\n",
              "      <td>1000.000000</td>\n",
              "      <td>1000.000000</td>\n",
              "      <td>1000.000000</td>\n",
              "      <td>1000.000000</td>\n",
              "      <td>1000.000000</td>\n",
              "      <td>1000.000000</td>\n",
              "      <td>1000.000000</td>\n",
              "      <td>1000.000000</td>\n",
              "      <td>...</td>\n",
              "      <td>1000.000000</td>\n",
              "      <td>1000.000000</td>\n",
              "      <td>1000.000000</td>\n",
              "      <td>1000.000000</td>\n",
              "      <td>1000.000000</td>\n",
              "      <td>1000.000000</td>\n",
              "      <td>1000.000000</td>\n",
              "      <td>1000.000000</td>\n",
              "      <td>1000.000000</td>\n",
              "      <td>1000.000000</td>\n",
              "    </tr>\n",
              "    <tr>\n",
              "      <th>mean</th>\n",
              "      <td>0.608189</td>\n",
              "      <td>0.596807</td>\n",
              "      <td>0.577532</td>\n",
              "      <td>0.604284</td>\n",
              "      <td>0.599922</td>\n",
              "      <td>0.581992</td>\n",
              "      <td>0.612456</td>\n",
              "      <td>0.601124</td>\n",
              "      <td>0.580601</td>\n",
              "      <td>0.613204</td>\n",
              "      <td>...</td>\n",
              "      <td>0.694725</td>\n",
              "      <td>0.672013</td>\n",
              "      <td>0.629271</td>\n",
              "      <td>0.678099</td>\n",
              "      <td>0.678169</td>\n",
              "      <td>0.650997</td>\n",
              "      <td>0.687065</td>\n",
              "      <td>0.669686</td>\n",
              "      <td>0.633837</td>\n",
              "      <td>0.293000</td>\n",
              "    </tr>\n",
              "    <tr>\n",
              "      <th>std</th>\n",
              "      <td>0.481916</td>\n",
              "      <td>0.437438</td>\n",
              "      <td>0.406599</td>\n",
              "      <td>0.451694</td>\n",
              "      <td>0.463989</td>\n",
              "      <td>0.414753</td>\n",
              "      <td>0.487411</td>\n",
              "      <td>0.468152</td>\n",
              "      <td>0.425857</td>\n",
              "      <td>0.496115</td>\n",
              "      <td>...</td>\n",
              "      <td>0.590804</td>\n",
              "      <td>0.547176</td>\n",
              "      <td>0.480452</td>\n",
              "      <td>0.553093</td>\n",
              "      <td>0.543631</td>\n",
              "      <td>0.530427</td>\n",
              "      <td>0.574252</td>\n",
              "      <td>0.548020</td>\n",
              "      <td>0.499184</td>\n",
              "      <td>0.455366</td>\n",
              "    </tr>\n",
              "    <tr>\n",
              "      <th>min</th>\n",
              "      <td>0.133569</td>\n",
              "      <td>0.141737</td>\n",
              "      <td>0.212289</td>\n",
              "      <td>0.175192</td>\n",
              "      <td>0.213819</td>\n",
              "      <td>0.199141</td>\n",
              "      <td>0.196804</td>\n",
              "      <td>0.170951</td>\n",
              "      <td>0.224609</td>\n",
              "      <td>0.162545</td>\n",
              "      <td>...</td>\n",
              "      <td>0.243048</td>\n",
              "      <td>0.171416</td>\n",
              "      <td>0.206099</td>\n",
              "      <td>0.184148</td>\n",
              "      <td>0.093378</td>\n",
              "      <td>0.167814</td>\n",
              "      <td>0.227688</td>\n",
              "      <td>0.186849</td>\n",
              "      <td>0.186811</td>\n",
              "      <td>0.000000</td>\n",
              "    </tr>\n",
              "    <tr>\n",
              "      <th>25%</th>\n",
              "      <td>0.442244</td>\n",
              "      <td>0.441593</td>\n",
              "      <td>0.439146</td>\n",
              "      <td>0.434965</td>\n",
              "      <td>0.432095</td>\n",
              "      <td>0.439559</td>\n",
              "      <td>0.435724</td>\n",
              "      <td>0.445328</td>\n",
              "      <td>0.438056</td>\n",
              "      <td>0.437969</td>\n",
              "      <td>...</td>\n",
              "      <td>0.440879</td>\n",
              "      <td>0.440694</td>\n",
              "      <td>0.442375</td>\n",
              "      <td>0.440422</td>\n",
              "      <td>0.447520</td>\n",
              "      <td>0.436129</td>\n",
              "      <td>0.436239</td>\n",
              "      <td>0.441082</td>\n",
              "      <td>0.438035</td>\n",
              "      <td>0.000000</td>\n",
              "    </tr>\n",
              "    <tr>\n",
              "      <th>50%</th>\n",
              "      <td>0.510787</td>\n",
              "      <td>0.511977</td>\n",
              "      <td>0.508904</td>\n",
              "      <td>0.509869</td>\n",
              "      <td>0.504786</td>\n",
              "      <td>0.504382</td>\n",
              "      <td>0.511375</td>\n",
              "      <td>0.504024</td>\n",
              "      <td>0.505988</td>\n",
              "      <td>0.507105</td>\n",
              "      <td>...</td>\n",
              "      <td>0.515452</td>\n",
              "      <td>0.518052</td>\n",
              "      <td>0.507378</td>\n",
              "      <td>0.516267</td>\n",
              "      <td>0.521722</td>\n",
              "      <td>0.507095</td>\n",
              "      <td>0.515375</td>\n",
              "      <td>0.513437</td>\n",
              "      <td>0.508518</td>\n",
              "      <td>0.000000</td>\n",
              "    </tr>\n",
              "    <tr>\n",
              "      <th>75%</th>\n",
              "      <td>0.580612</td>\n",
              "      <td>0.585581</td>\n",
              "      <td>0.577048</td>\n",
              "      <td>0.584938</td>\n",
              "      <td>0.584035</td>\n",
              "      <td>0.581197</td>\n",
              "      <td>0.582325</td>\n",
              "      <td>0.579797</td>\n",
              "      <td>0.575745</td>\n",
              "      <td>0.585061</td>\n",
              "      <td>...</td>\n",
              "      <td>0.598947</td>\n",
              "      <td>0.595520</td>\n",
              "      <td>0.581976</td>\n",
              "      <td>0.601501</td>\n",
              "      <td>0.605664</td>\n",
              "      <td>0.589257</td>\n",
              "      <td>0.597590</td>\n",
              "      <td>0.593886</td>\n",
              "      <td>0.590351</td>\n",
              "      <td>1.000000</td>\n",
              "    </tr>\n",
              "    <tr>\n",
              "      <th>max</th>\n",
              "      <td>3.566259</td>\n",
              "      <td>3.724895</td>\n",
              "      <td>3.727169</td>\n",
              "      <td>3.443209</td>\n",
              "      <td>3.463468</td>\n",
              "      <td>3.881032</td>\n",
              "      <td>3.601398</td>\n",
              "      <td>3.693560</td>\n",
              "      <td>3.723905</td>\n",
              "      <td>3.666992</td>\n",
              "      <td>...</td>\n",
              "      <td>3.895424</td>\n",
              "      <td>3.878557</td>\n",
              "      <td>3.352653</td>\n",
              "      <td>3.388831</td>\n",
              "      <td>3.722318</td>\n",
              "      <td>3.238004</td>\n",
              "      <td>4.132183</td>\n",
              "      <td>3.772746</td>\n",
              "      <td>3.848727</td>\n",
              "      <td>1.000000</td>\n",
              "    </tr>\n",
              "  </tbody>\n",
              "</table>\n",
              "<p>8 rows × 301 columns</p>\n",
              "</div>\n",
              "    <div class=\"colab-df-buttons\">\n",
              "\n",
              "  <div class=\"colab-df-container\">\n",
              "    <button class=\"colab-df-convert\" onclick=\"convertToInteractive('df-817423e0-b701-443f-be4a-c40faf1e9e3c')\"\n",
              "            title=\"Convert this dataframe to an interactive table.\"\n",
              "            style=\"display:none;\">\n",
              "\n",
              "  <svg xmlns=\"http://www.w3.org/2000/svg\" height=\"24px\" viewBox=\"0 -960 960 960\">\n",
              "    <path d=\"M120-120v-720h720v720H120Zm60-500h600v-160H180v160Zm220 220h160v-160H400v160Zm0 220h160v-160H400v160ZM180-400h160v-160H180v160Zm440 0h160v-160H620v160ZM180-180h160v-160H180v160Zm440 0h160v-160H620v160Z\"/>\n",
              "  </svg>\n",
              "    </button>\n",
              "\n",
              "  <style>\n",
              "    .colab-df-container {\n",
              "      display:flex;\n",
              "      gap: 12px;\n",
              "    }\n",
              "\n",
              "    .colab-df-convert {\n",
              "      background-color: #E8F0FE;\n",
              "      border: none;\n",
              "      border-radius: 50%;\n",
              "      cursor: pointer;\n",
              "      display: none;\n",
              "      fill: #1967D2;\n",
              "      height: 32px;\n",
              "      padding: 0 0 0 0;\n",
              "      width: 32px;\n",
              "    }\n",
              "\n",
              "    .colab-df-convert:hover {\n",
              "      background-color: #E2EBFA;\n",
              "      box-shadow: 0px 1px 2px rgba(60, 64, 67, 0.3), 0px 1px 3px 1px rgba(60, 64, 67, 0.15);\n",
              "      fill: #174EA6;\n",
              "    }\n",
              "\n",
              "    .colab-df-buttons div {\n",
              "      margin-bottom: 4px;\n",
              "    }\n",
              "\n",
              "    [theme=dark] .colab-df-convert {\n",
              "      background-color: #3B4455;\n",
              "      fill: #D2E3FC;\n",
              "    }\n",
              "\n",
              "    [theme=dark] .colab-df-convert:hover {\n",
              "      background-color: #434B5C;\n",
              "      box-shadow: 0px 1px 3px 1px rgba(0, 0, 0, 0.15);\n",
              "      filter: drop-shadow(0px 1px 2px rgba(0, 0, 0, 0.3));\n",
              "      fill: #FFFFFF;\n",
              "    }\n",
              "  </style>\n",
              "\n",
              "    <script>\n",
              "      const buttonEl =\n",
              "        document.querySelector('#df-817423e0-b701-443f-be4a-c40faf1e9e3c button.colab-df-convert');\n",
              "      buttonEl.style.display =\n",
              "        google.colab.kernel.accessAllowed ? 'block' : 'none';\n",
              "\n",
              "      async function convertToInteractive(key) {\n",
              "        const element = document.querySelector('#df-817423e0-b701-443f-be4a-c40faf1e9e3c');\n",
              "        const dataTable =\n",
              "          await google.colab.kernel.invokeFunction('convertToInteractive',\n",
              "                                                    [key], {});\n",
              "        if (!dataTable) return;\n",
              "\n",
              "        const docLinkHtml = 'Like what you see? Visit the ' +\n",
              "          '<a target=\"_blank\" href=https://colab.research.google.com/notebooks/data_table.ipynb>data table notebook</a>'\n",
              "          + ' to learn more about interactive tables.';\n",
              "        element.innerHTML = '';\n",
              "        dataTable['output_type'] = 'display_data';\n",
              "        await google.colab.output.renderOutput(dataTable, element);\n",
              "        const docLink = document.createElement('div');\n",
              "        docLink.innerHTML = docLinkHtml;\n",
              "        element.appendChild(docLink);\n",
              "      }\n",
              "    </script>\n",
              "  </div>\n",
              "\n",
              "\n",
              "<div id=\"df-39cb7f3d-dcbc-4002-aa50-c1a15024057c\">\n",
              "  <button class=\"colab-df-quickchart\" onclick=\"quickchart('df-39cb7f3d-dcbc-4002-aa50-c1a15024057c')\"\n",
              "            title=\"Suggest charts\"\n",
              "            style=\"display:none;\">\n",
              "\n",
              "<svg xmlns=\"http://www.w3.org/2000/svg\" height=\"24px\"viewBox=\"0 0 24 24\"\n",
              "     width=\"24px\">\n",
              "    <g>\n",
              "        <path d=\"M19 3H5c-1.1 0-2 .9-2 2v14c0 1.1.9 2 2 2h14c1.1 0 2-.9 2-2V5c0-1.1-.9-2-2-2zM9 17H7v-7h2v7zm4 0h-2V7h2v10zm4 0h-2v-4h2v4z\"/>\n",
              "    </g>\n",
              "</svg>\n",
              "  </button>\n",
              "\n",
              "<style>\n",
              "  .colab-df-quickchart {\n",
              "      --bg-color: #E8F0FE;\n",
              "      --fill-color: #1967D2;\n",
              "      --hover-bg-color: #E2EBFA;\n",
              "      --hover-fill-color: #174EA6;\n",
              "      --disabled-fill-color: #AAA;\n",
              "      --disabled-bg-color: #DDD;\n",
              "  }\n",
              "\n",
              "  [theme=dark] .colab-df-quickchart {\n",
              "      --bg-color: #3B4455;\n",
              "      --fill-color: #D2E3FC;\n",
              "      --hover-bg-color: #434B5C;\n",
              "      --hover-fill-color: #FFFFFF;\n",
              "      --disabled-bg-color: #3B4455;\n",
              "      --disabled-fill-color: #666;\n",
              "  }\n",
              "\n",
              "  .colab-df-quickchart {\n",
              "    background-color: var(--bg-color);\n",
              "    border: none;\n",
              "    border-radius: 50%;\n",
              "    cursor: pointer;\n",
              "    display: none;\n",
              "    fill: var(--fill-color);\n",
              "    height: 32px;\n",
              "    padding: 0;\n",
              "    width: 32px;\n",
              "  }\n",
              "\n",
              "  .colab-df-quickchart:hover {\n",
              "    background-color: var(--hover-bg-color);\n",
              "    box-shadow: 0 1px 2px rgba(60, 64, 67, 0.3), 0 1px 3px 1px rgba(60, 64, 67, 0.15);\n",
              "    fill: var(--button-hover-fill-color);\n",
              "  }\n",
              "\n",
              "  .colab-df-quickchart-complete:disabled,\n",
              "  .colab-df-quickchart-complete:disabled:hover {\n",
              "    background-color: var(--disabled-bg-color);\n",
              "    fill: var(--disabled-fill-color);\n",
              "    box-shadow: none;\n",
              "  }\n",
              "\n",
              "  .colab-df-spinner {\n",
              "    border: 2px solid var(--fill-color);\n",
              "    border-color: transparent;\n",
              "    border-bottom-color: var(--fill-color);\n",
              "    animation:\n",
              "      spin 1s steps(1) infinite;\n",
              "  }\n",
              "\n",
              "  @keyframes spin {\n",
              "    0% {\n",
              "      border-color: transparent;\n",
              "      border-bottom-color: var(--fill-color);\n",
              "      border-left-color: var(--fill-color);\n",
              "    }\n",
              "    20% {\n",
              "      border-color: transparent;\n",
              "      border-left-color: var(--fill-color);\n",
              "      border-top-color: var(--fill-color);\n",
              "    }\n",
              "    30% {\n",
              "      border-color: transparent;\n",
              "      border-left-color: var(--fill-color);\n",
              "      border-top-color: var(--fill-color);\n",
              "      border-right-color: var(--fill-color);\n",
              "    }\n",
              "    40% {\n",
              "      border-color: transparent;\n",
              "      border-right-color: var(--fill-color);\n",
              "      border-top-color: var(--fill-color);\n",
              "    }\n",
              "    60% {\n",
              "      border-color: transparent;\n",
              "      border-right-color: var(--fill-color);\n",
              "    }\n",
              "    80% {\n",
              "      border-color: transparent;\n",
              "      border-right-color: var(--fill-color);\n",
              "      border-bottom-color: var(--fill-color);\n",
              "    }\n",
              "    90% {\n",
              "      border-color: transparent;\n",
              "      border-bottom-color: var(--fill-color);\n",
              "    }\n",
              "  }\n",
              "</style>\n",
              "\n",
              "  <script>\n",
              "    async function quickchart(key) {\n",
              "      const quickchartButtonEl =\n",
              "        document.querySelector('#' + key + ' button');\n",
              "      quickchartButtonEl.disabled = true;  // To prevent multiple clicks.\n",
              "      quickchartButtonEl.classList.add('colab-df-spinner');\n",
              "      try {\n",
              "        const charts = await google.colab.kernel.invokeFunction(\n",
              "            'suggestCharts', [key], {});\n",
              "      } catch (error) {\n",
              "        console.error('Error during call to suggestCharts:', error);\n",
              "      }\n",
              "      quickchartButtonEl.classList.remove('colab-df-spinner');\n",
              "      quickchartButtonEl.classList.add('colab-df-quickchart-complete');\n",
              "    }\n",
              "    (() => {\n",
              "      let quickchartButtonEl =\n",
              "        document.querySelector('#df-39cb7f3d-dcbc-4002-aa50-c1a15024057c button');\n",
              "      quickchartButtonEl.style.display =\n",
              "        google.colab.kernel.accessAllowed ? 'block' : 'none';\n",
              "    })();\n",
              "  </script>\n",
              "</div>\n",
              "\n",
              "    </div>\n",
              "  </div>\n"
            ],
            "application/vnd.google.colaboratory.intrinsic+json": {
              "type": "dataframe"
            }
          },
          "metadata": {},
          "execution_count": 155
        }
      ]
    },
    {
      "cell_type": "markdown",
      "source": [
        "# Preprocessing On the Data"
      ],
      "metadata": {
        "id": "ag-Vj02onxC7"
      }
    },
    {
      "cell_type": "markdown",
      "source": [
        "## Standardization of the data\n",
        "\n",
        "#### Function: `manual_standardization`\n",
        "- **Process**:\n",
        "  1. **Calculate Means**: Compute the mean of each feature (column) across all samples.\n",
        "  2. **Calculate Standard Deviations**: Compute the standard deviation of each feature across all samples.\n",
        "  3. **Standardize**: Subtract the mean and divide by the standard deviation for each feature to standardize the data.\n",
        "\n",
        "- **Output**: A standardized version of the input data, where each feature has a mean of 0 and a standard deviation of 1.\n"
      ],
      "metadata": {
        "id": "-f5bq8t2oRji"
      }
    },
    {
      "cell_type": "code",
      "source": [
        "def manual_standardization(data):\n",
        "    means = data.mean(axis=0)\n",
        "    std_devs = data.std(axis=0)\n",
        "    standardized_data = (data - means) / std_devs\n",
        "    return standardized_data"
      ],
      "metadata": {
        "id": "zx0ml9qzngtV"
      },
      "execution_count": 135,
      "outputs": []
    },
    {
      "cell_type": "markdown",
      "source": [
        "## Data Reshaping\n",
        "\n",
        "#### Function: `reshape_data`\n",
        "- **Process**:\n",
        "  1. **Check Divisibility**: Ensure the number of samples is divisible by `time_steps`.\n",
        "  2. **Reshape**: Reshape the data into a 3D array with shape `(num_samples // time_steps, time_steps, num_features)`, where each sequence has `time_steps` and the data is split accordingly.\n",
        "\n",
        "- **Output**: A 3D array of shape `(num_sequences, time_steps, num_features)` representing the reshaped data.\n"
      ],
      "metadata": {
        "id": "9ebpb-Q-oUgk"
      }
    },
    {
      "cell_type": "code",
      "source": [
        "def reshape_data(features, time_steps=50):\n",
        "    num_samples = len(features)\n",
        "    num_features = features.shape[1]\n",
        "    if num_samples % time_steps != 0:\n",
        "        raise ValueError(\"Number of samples must be divisible by time_steps for reshaping.\")\n",
        "\n",
        "    reshaped_data = features.values.reshape(num_samples // time_steps, time_steps, num_features)\n",
        "    return reshaped_data\n"
      ],
      "metadata": {
        "id": "mtFoI6non23t"
      },
      "execution_count": 136,
      "outputs": []
    },
    {
      "cell_type": "markdown",
      "source": [
        "## Splitting of the Data for training and testing\n",
        "\n",
        "#### Function: `train_test_split_manual`\n",
        "\n",
        "- **Process**:\n",
        "  1. **Shuffle Indices**: Generate a random permutation of indices to shuffle the data.\n",
        "  2. **Split Data**: Divide the data and labels into training and testing sets based on the specified `test_size`.\n",
        "  3. **Return**: Return the training and testing data (`X_train`, `X_test`) and corresponding labels (`y_train`, `y_test`).\n",
        "\n",
        "- **Output**: Four arrays: `X_train`, `X_test`, `y_train`, `y_test`, representing the training and testing data and labels.\n"
      ],
      "metadata": {
        "id": "R0z9wHi4C_dv"
      }
    },
    {
      "cell_type": "code",
      "source": [
        "def train_test_split_manual(data, labels, test_size=0.2):\n",
        "    num_samples = len(data)\n",
        "    indices = np.random.permutation(num_samples)\n",
        "    split_idx = int(num_samples * (1 - test_size))\n",
        "    X_train = data[indices[:split_idx]]\n",
        "    X_test = data[indices[split_idx:]]\n",
        "\n",
        "    y_train = labels.iloc[indices[:split_idx]]\n",
        "    y_test = labels.iloc[indices[split_idx:]]\n",
        "\n",
        "    return X_train, X_test, y_train, y_test"
      ],
      "metadata": {
        "id": "wx9jGtHmn6WG"
      },
      "execution_count": 137,
      "outputs": []
    },
    {
      "cell_type": "markdown",
      "source": [
        "## Class Weight Computation\n",
        "#### Function: `compute_class_weights`\n",
        "- **Process**:\n",
        "  1. **Count Classes**: Compute the frequency of each class using `value_counts`.\n",
        "  2. **Calculate Weights**: Calculate the weight for each class as the inverse of its frequency, normalized by the total number of samples and the number of unique classes.\n",
        "  3. **Return Weights**: Return a dictionary where keys are class labels and values are the corresponding class weights.\n",
        "\n",
        "- **Output**: A dictionary with class labels as keys and their respective weights as values.\n",
        "\n"
      ],
      "metadata": {
        "id": "uxZPs11XoaVf"
      }
    },
    {
      "cell_type": "code",
      "source": [
        "def compute_class_weights(labels):\n",
        "    class_counts = labels.value_counts()\n",
        "    total_samples = len(labels)\n",
        "    class_weights = {cls: total_samples / (len(class_counts) * count) for cls, count in class_counts.items()}\n",
        "    return class_weights"
      ],
      "metadata": {
        "id": "8WeiT-C8oGFH"
      },
      "execution_count": 138,
      "outputs": []
    },
    {
      "cell_type": "markdown",
      "source": [
        "## Data Preprocessing Pipeline\n",
        "\n",
        "#### Function: `preprocess_data`\n",
        "\n",
        "- **Process**:\n",
        "  1. **Extract Labels**: The \"Label\" column is separated from the features.\n",
        "  2. **Standardize Features**: The features are standardized using the `manual_standardization` function.\n",
        "  3. **Reshape Data**: The standardized features are reshaped into a 3D array for time series analysis using the `reshape_data` function.\n",
        "  4. **Train-Test Split**: The data is split into training and testing sets using the `train_test_split_manual` function.\n",
        "  5. **Compute Class Weights**: Class weights are calculated using the `compute_class_weights` function to address any class imbalance.\n",
        "\n",
        "- **Output**: The function returns:\n",
        "  - `X_train`: Training data features.\n",
        "  - `X_test`: Testing data features.\n",
        "  - `y_train`: Training data labels.\n",
        "  - `y_test`: Testing data labels.\n",
        "  - `class_weights`: A dictionary containing class weights for balancing training.\n"
      ],
      "metadata": {
        "id": "7cdsouGRoc5U"
      }
    },
    {
      "cell_type": "code",
      "source": [
        "def preprocess_data(data, time_steps=50):\n",
        "    labels = data[\"Label\"]\n",
        "    features = data.drop(columns=[\"Label\"])\n",
        "    standardized_features = manual_standardization(features)\n",
        "    reshaped_data = reshape_data(standardized_features, time_steps)\n",
        "    X_train, X_test, y_train, y_test = train_test_split_manual(reshaped_data, labels)\n",
        "    class_weights = compute_class_weights(y_train)\n",
        "    return X_train, X_test, y_train, y_test, class_weights\n",
        "\n",
        "X_train, X_test, y_train, y_test, class_weights = preprocess_data(data)\n",
        "\n",
        "print(f\"Train data shape: {X_train.shape}, Test data shape: {X_test.shape}\")\n",
        "print(f\"Class weights: {class_weights}\")\n",
        "\n"
      ],
      "metadata": {
        "id": "pxB2hQ6EdSjw",
        "colab": {
          "base_uri": "https://localhost:8080/"
        },
        "outputId": "393771e3-2b68-4950-aa2d-8232d232bbfe"
      },
      "execution_count": 156,
      "outputs": [
        {
          "output_type": "stream",
          "name": "stdout",
          "text": [
            "Train data shape: (16, 50, 300), Test data shape: (4, 50, 300)\n",
            "Class weights: {0.0: 0.8, 1.0: 1.3333333333333333}\n"
          ]
        }
      ]
    },
    {
      "cell_type": "markdown",
      "source": [
        "# Data Visualization"
      ],
      "metadata": {
        "id": "kWY348X9pD16"
      }
    },
    {
      "cell_type": "code",
      "source": [
        "# Plot for understanding distribution of Noraml and Faulty Sample\n",
        "\n",
        "plt.figure(figsize=(8, 6))\n",
        "sns.countplot(x=data['Label'])\n",
        "plt.title(\"Distribution of Normal (0) and Faulty (1) Samples\")\n",
        "plt.xlabel(\"Label\")\n",
        "plt.ylabel(\"Count\")\n",
        "plt.xticks([0, 1], ['Normal (0)', 'Faulty (1)'])\n",
        "plt.show()\n"
      ],
      "metadata": {
        "colab": {
          "base_uri": "https://localhost:8080/",
          "height": 564
        },
        "id": "NxJ-jWttdeYX",
        "outputId": "75651897-c01f-4ef0-e6b1-996957f0a4ee"
      },
      "execution_count": 140,
      "outputs": [
        {
          "output_type": "display_data",
          "data": {
            "text/plain": [
              "<Figure size 800x600 with 1 Axes>"
            ],
            "image/png": "[encoded data removed]"
          },
          "metadata": {}
        }
      ]
    },
    {
      "cell_type": "code",
      "source": [
        "# For visualizing how a single feature behaves over time,\n",
        "\n",
        "random_sample_idx = np.random.randint(0, len(data))\n",
        "feature_idx = 0\n",
        "time_steps = 50\n",
        "\n",
        "plt.figure(figsize=(10, 6))\n",
        "plt.plot(data.iloc[random_sample_idx, 1:time_steps+1].values)\n",
        "plt.title(f\"Time Series of Feature {feature_idx} for Sample {random_sample_idx}\")\n",
        "plt.xlabel(\"Time Steps\")\n",
        "r = 65\n",
        "plt.ylabel(\"Sensor Reading\")\n",
        "plt.show()"
      ],
      "metadata": {
        "colab": {
          "base_uri": "https://localhost:8080/",
          "height": 564
        },
        "id": "s5UKpdgXlyJ-",
        "outputId": "97236672-7b7d-406d-8144-6db71a728f60"
      },
      "execution_count": 157,
      "outputs": [
        {
          "output_type": "display_data",
          "data": {
            "text/plain": [
              "<Figure size 1000x600 with 1 Axes>"
            ],
            "image/png": "[encoded data removed]"
          },
          "metadata": {}
        }
      ]
    },
    {
      "cell_type": "markdown",
      "source": [
        "# LSTM Model for Classification"
      ],
      "metadata": {
        "id": "ISubFKYtryN7"
      }
    },
    {
      "cell_type": "code",
      "source": [
        "import numpy as np\n",
        "import tensorflow as tf\n",
        "from tensorflow.keras.models import Sequential\n",
        "from tensorflow.keras.layers import LSTM, GRU, Dense, Dropout, Bidirectional\n",
        "from tensorflow.keras.callbacks import EarlyStopping\n"
      ],
      "metadata": {
        "id": "OmcCMsGepv_j"
      },
      "execution_count": 142,
      "outputs": []
    },
    {
      "cell_type": "markdown",
      "source": [
        "## LSTM Model Structure and Compilation\n",
        "\n",
        "#### Function: `create_improved_lstm_model`\n",
        "\n",
        "- **Parameters**:\n",
        "  - `input_shape`: A tuple representing the shape of the input data (excluding batch size), typically `(time_steps, num_features)` for time series data.\n",
        "\n",
        "- **Process**:\n",
        "  1. **First Bidirectional LSTM Layer**: Adds a Bidirectional LSTM layer with 100 units and the `return_sequences=True` option to output the entire sequence for the next layer.\n",
        "  2. **Dropout**: Applies a dropout rate of 0.3 after the first LSTM layer to prevent overfitting.\n",
        "  3. **Second Bidirectional LSTM Layer**: Adds another Bidirectional LSTM layer with 100 units.\n",
        "  4. **Dropout**: Applies a dropout rate of 0.3 after the second LSTM layer.\n",
        "  5. **Final LSTM Layer**: Adds a final LSTM layer with 50 units and `return_sequences=False` to output only the last time step.\n",
        "  6. **Dropout**: Applies a dropout rate of 0.3 after the last LSTM layer.\n",
        "  7. **Dense Layer**: Adds a dense layer with 1 unit and a sigmoid activation function for binary classification.\n",
        "\n",
        "- **Output**: The function returns the compiled LSTM model.\n"
      ],
      "metadata": {
        "id": "nynx1X1lDHIB"
      }
    },
    {
      "cell_type": "code",
      "source": [
        "def create_improved_lstm_model(input_shape):\n",
        "    model = Sequential()\n",
        "\n",
        "\n",
        "    model.add(Bidirectional(LSTM(units=200, return_sequences=True), input_shape=input_shape))\n",
        "    model.add(Dropout(0.3))\n",
        "\n",
        "    model.add(Bidirectional(LSTM(units=100, return_sequences=True)))\n",
        "    model.add(Dropout(0.3))\n",
        "\n",
        "    model.add(LSTM(units=50, return_sequences=False))\n",
        "    model.add(Dropout(0.3))\n",
        "\n",
        "    model.add(Dense(units=1, activation='sigmoid'))\n",
        "\n",
        "    return model"
      ],
      "metadata": {
        "id": "d7VnpLVFr_W9"
      },
      "execution_count": 158,
      "outputs": []
    },
    {
      "cell_type": "code",
      "source": [
        "input_shape = (X_train.shape[1], X_train.shape[2])\n",
        "model = create_improved_lstm_model(input_shape)\n",
        "model.compile(optimizer='adam', loss='binary_crossentropy', metrics=['accuracy'])"
      ],
      "metadata": {
        "colab": {
          "base_uri": "https://localhost:8080/"
        },
        "id": "SVC5MNt1sCLB",
        "outputId": "1c78d5ad-5de7-4bf7-f260-3219e6208772"
      },
      "execution_count": 159,
      "outputs": [
        {
          "output_type": "stream",
          "name": "stderr",
          "text": [
            "/usr/local/lib/python3.10/dist-packages/keras/src/layers/rnn/bidirectional.py:107: UserWarning: Do not pass an `input_shape`/`input_dim` argument to a layer. When using Sequential models, prefer using an `Input(shape)` object as the first layer in the model instead.\n",
            "  super().__init__(**kwargs)\n"
          ]
        }
      ]
    },
    {
      "cell_type": "code",
      "source": [
        "model.summary()"
      ],
      "metadata": {
        "colab": {
          "base_uri": "https://localhost:8080/",
          "height": 353
        },
        "id": "jhhOEH1rsgje",
        "outputId": "ed4f6197-ebea-4611-8c5a-712cc7fe3832"
      },
      "execution_count": 160,
      "outputs": [
        {
          "output_type": "display_data",
          "data": {
            "text/plain": [
              "\u001b[1mModel: \"sequential_9\"\u001b[0m\n"
            ],
            "text/html": [
              "<pre style=\"white-space:pre;overflow-x:auto;line-height:normal;font-family:Menlo,'DejaVu Sans Mono',consolas,'Courier New',monospace\"><span style=\"font-weight: bold\">Model: \"sequential_9\"</span>\n",
              "</pre>\n"
            ]
          },
          "metadata": {}
        },
        {
          "output_type": "display_data",
          "data": {
            "text/plain": [
              "┏━━━━━━━━━━━━━━━━━━━━━━━━━━━━━━━━━━━━━━┳━━━━━━━━━━━━━━━━━━━━━━━━━━━━━┳━━━━━━━━━━━━━━━━━┓\n",
              "┃\u001b[1m \u001b[0m\u001b[1mLayer (type)                        \u001b[0m\u001b[1m \u001b[0m┃\u001b[1m \u001b[0m\u001b[1mOutput Shape               \u001b[0m\u001b[1m \u001b[0m┃\u001b[1m \u001b[0m\u001b[1m        Param #\u001b[0m\u001b[1m \u001b[0m┃\n",
              "┡━━━━━━━━━━━━━━━━━━━━━━━━━━━━━━━━━━━━━━╇━━━━━━━━━━━━━━━━━━━━━━━━━━━━━╇━━━━━━━━━━━━━━━━━┩\n",
              "│ bidirectional_23 (\u001b[38;5;33mBidirectional\u001b[0m)     │ (\u001b[38;5;45mNone\u001b[0m, \u001b[38;5;34m50\u001b[0m, \u001b[38;5;34m400\u001b[0m)             │         \u001b[38;5;34m801,600\u001b[0m │\n",
              "├──────────────────────────────────────┼─────────────────────────────┼─────────────────┤\n",
              "│ dropout_32 (\u001b[38;5;33mDropout\u001b[0m)                 │ (\u001b[38;5;45mNone\u001b[0m, \u001b[38;5;34m50\u001b[0m, \u001b[38;5;34m400\u001b[0m)             │               \u001b[38;5;34m0\u001b[0m │\n",
              "├──────────────────────────────────────┼─────────────────────────────┼─────────────────┤\n",
              "│ bidirectional_24 (\u001b[38;5;33mBidirectional\u001b[0m)     │ (\u001b[38;5;45mNone\u001b[0m, \u001b[38;5;34m50\u001b[0m, \u001b[38;5;34m200\u001b[0m)             │         \u001b[38;5;34m400,800\u001b[0m │\n",
              "├──────────────────────────────────────┼─────────────────────────────┼─────────────────┤\n",
              "│ dropout_33 (\u001b[38;5;33mDropout\u001b[0m)                 │ (\u001b[38;5;45mNone\u001b[0m, \u001b[38;5;34m50\u001b[0m, \u001b[38;5;34m200\u001b[0m)             │               \u001b[38;5;34m0\u001b[0m │\n",
              "├──────────────────────────────────────┼─────────────────────────────┼─────────────────┤\n",
              "│ lstm_34 (\u001b[38;5;33mLSTM\u001b[0m)                       │ (\u001b[38;5;45mNone\u001b[0m, \u001b[38;5;34m50\u001b[0m)                  │          \u001b[38;5;34m50,200\u001b[0m │\n",
              "├──────────────────────────────────────┼─────────────────────────────┼─────────────────┤\n",
              "│ dropout_34 (\u001b[38;5;33mDropout\u001b[0m)                 │ (\u001b[38;5;45mNone\u001b[0m, \u001b[38;5;34m50\u001b[0m)                  │               \u001b[38;5;34m0\u001b[0m │\n",
              "├──────────────────────────────────────┼─────────────────────────────┼─────────────────┤\n",
              "│ dense_9 (\u001b[38;5;33mDense\u001b[0m)                      │ (\u001b[38;5;45mNone\u001b[0m, \u001b[38;5;34m1\u001b[0m)                   │              \u001b[38;5;34m51\u001b[0m │\n",
              "└──────────────────────────────────────┴─────────────────────────────┴─────────────────┘\n"
            ],
            "text/html": [
              "<pre style=\"white-space:pre;overflow-x:auto;line-height:normal;font-family:Menlo,'DejaVu Sans Mono',consolas,'Courier New',monospace\">┏━━━━━━━━━━━━━━━━━━━━━━━━━━━━━━━━━━━━━━┳━━━━━━━━━━━━━━━━━━━━━━━━━━━━━┳━━━━━━━━━━━━━━━━━┓\n",
              "┃<span style=\"font-weight: bold\"> Layer (type)                         </span>┃<span style=\"font-weight: bold\"> Output Shape                </span>┃<span style=\"font-weight: bold\">         Param # </span>┃\n",
              "┡━━━━━━━━━━━━━━━━━━━━━━━━━━━━━━━━━━━━━━╇━━━━━━━━━━━━━━━━━━━━━━━━━━━━━╇━━━━━━━━━━━━━━━━━┩\n",
              "│ bidirectional_23 (<span style=\"color: #0087ff; text-decoration-color: #0087ff\">Bidirectional</span>)     │ (<span style=\"color: #00d7ff; text-decoration-color: #00d7ff\">None</span>, <span style=\"color: #00af00; text-decoration-color: #00af00\">50</span>, <span style=\"color: #00af00; text-decoration-color: #00af00\">400</span>)             │         <span style=\"color: #00af00; text-decoration-color: #00af00\">801,600</span> │\n",
              "├──────────────────────────────────────┼─────────────────────────────┼─────────────────┤\n",
              "│ dropout_32 (<span style=\"color: #0087ff; text-decoration-color: #0087ff\">Dropout</span>)                 │ (<span style=\"color: #00d7ff; text-decoration-color: #00d7ff\">None</span>, <span style=\"color: #00af00; text-decoration-color: #00af00\">50</span>, <span style=\"color: #00af00; text-decoration-color: #00af00\">400</span>)             │               <span style=\"color: #00af00; text-decoration-color: #00af00\">0</span> │\n",
              "├──────────────────────────────────────┼─────────────────────────────┼─────────────────┤\n",
              "│ bidirectional_24 (<span style=\"color: #0087ff; text-decoration-color: #0087ff\">Bidirectional</span>)     │ (<span style=\"color: #00d7ff; text-decoration-color: #00d7ff\">None</span>, <span style=\"color: #00af00; text-decoration-color: #00af00\">50</span>, <span style=\"color: #00af00; text-decoration-color: #00af00\">200</span>)             │         <span style=\"color: #00af00; text-decoration-color: #00af00\">400,800</span> │\n",
              "├──────────────────────────────────────┼─────────────────────────────┼─────────────────┤\n",
              "│ dropout_33 (<span style=\"color: #0087ff; text-decoration-color: #0087ff\">Dropout</span>)                 │ (<span style=\"color: #00d7ff; text-decoration-color: #00d7ff\">None</span>, <span style=\"color: #00af00; text-decoration-color: #00af00\">50</span>, <span style=\"color: #00af00; text-decoration-color: #00af00\">200</span>)             │               <span style=\"color: #00af00; text-decoration-color: #00af00\">0</span> │\n",
              "├──────────────────────────────────────┼─────────────────────────────┼─────────────────┤\n",
              "│ lstm_34 (<span style=\"color: #0087ff; text-decoration-color: #0087ff\">LSTM</span>)                       │ (<span style=\"color: #00d7ff; text-decoration-color: #00d7ff\">None</span>, <span style=\"color: #00af00; text-decoration-color: #00af00\">50</span>)                  │          <span style=\"color: #00af00; text-decoration-color: #00af00\">50,200</span> │\n",
              "├──────────────────────────────────────┼─────────────────────────────┼─────────────────┤\n",
              "│ dropout_34 (<span style=\"color: #0087ff; text-decoration-color: #0087ff\">Dropout</span>)                 │ (<span style=\"color: #00d7ff; text-decoration-color: #00d7ff\">None</span>, <span style=\"color: #00af00; text-decoration-color: #00af00\">50</span>)                  │               <span style=\"color: #00af00; text-decoration-color: #00af00\">0</span> │\n",
              "├──────────────────────────────────────┼─────────────────────────────┼─────────────────┤\n",
              "│ dense_9 (<span style=\"color: #0087ff; text-decoration-color: #0087ff\">Dense</span>)                      │ (<span style=\"color: #00d7ff; text-decoration-color: #00d7ff\">None</span>, <span style=\"color: #00af00; text-decoration-color: #00af00\">1</span>)                   │              <span style=\"color: #00af00; text-decoration-color: #00af00\">51</span> │\n",
              "└──────────────────────────────────────┴─────────────────────────────┴─────────────────┘\n",
              "</pre>\n"
            ]
          },
          "metadata": {}
        },
        {
          "output_type": "display_data",
          "data": {
            "text/plain": [
              "\u001b[1m Total params: \u001b[0m\u001b[38;5;34m1,252,651\u001b[0m (4.78 MB)\n"
            ],
            "text/html": [
              "<pre style=\"white-space:pre;overflow-x:auto;line-height:normal;font-family:Menlo,'DejaVu Sans Mono',consolas,'Courier New',monospace\"><span style=\"font-weight: bold\"> Total params: </span><span style=\"color: #00af00; text-decoration-color: #00af00\">1,252,651</span> (4.78 MB)\n",
              "</pre>\n"
            ]
          },
          "metadata": {}
        },
        {
          "output_type": "display_data",
          "data": {
            "text/plain": [
              "\u001b[1m Trainable params: \u001b[0m\u001b[38;5;34m1,252,651\u001b[0m (4.78 MB)\n"
            ],
            "text/html": [
              "<pre style=\"white-space:pre;overflow-x:auto;line-height:normal;font-family:Menlo,'DejaVu Sans Mono',consolas,'Courier New',monospace\"><span style=\"font-weight: bold\"> Trainable params: </span><span style=\"color: #00af00; text-decoration-color: #00af00\">1,252,651</span> (4.78 MB)\n",
              "</pre>\n"
            ]
          },
          "metadata": {}
        },
        {
          "output_type": "display_data",
          "data": {
            "text/plain": [
              "\u001b[1m Non-trainable params: \u001b[0m\u001b[38;5;34m0\u001b[0m (0.00 B)\n"
            ],
            "text/html": [
              "<pre style=\"white-space:pre;overflow-x:auto;line-height:normal;font-family:Menlo,'DejaVu Sans Mono',consolas,'Courier New',monospace\"><span style=\"font-weight: bold\"> Non-trainable params: </span><span style=\"color: #00af00; text-decoration-color: #00af00\">0</span> (0.00 B)\n",
              "</pre>\n"
            ]
          },
          "metadata": {}
        }
      ]
    },
    {
      "cell_type": "code",
      "source": [
        "early_stopping = EarlyStopping(monitor='val_loss', patience=5, restore_best_weights=True)\n",
        "\n",
        "history = model.fit(X_train, y_train, epochs=50, batch_size=64, validation_data=(X_test, y_test), callbacks=[early_stopping])"
      ],
      "metadata": {
        "colab": {
          "base_uri": "https://localhost:8080/"
        },
        "id": "9omyTp8RsUWR",
        "outputId": "d838758c-ca74-4cb5-fd62-c2904ad7e9a5"
      },
      "execution_count": 161,
      "outputs": [
        {
          "output_type": "stream",
          "name": "stdout",
          "text": [
            "Epoch 1/50\n",
            "\u001b[1m1/1\u001b[0m \u001b[32m━━━━━━━━━━━━━━━━━━━━\u001b[0m\u001b[37m\u001b[0m \u001b[1m10s\u001b[0m 10s/step - accuracy: 0.6250 - loss: 0.6755 - val_accuracy: 0.7500 - val_loss: 0.5654\n",
            "Epoch 2/50\n",
            "\u001b[1m1/1\u001b[0m \u001b[32m━━━━━━━━━━━━━━━━━━━━\u001b[0m\u001b[37m\u001b[0m \u001b[1m1s\u001b[0m 1s/step - accuracy: 0.8125 - loss: 0.5051 - val_accuracy: 0.7500 - val_loss: 0.5379\n",
            "Epoch 3/50\n",
            "\u001b[1m1/1\u001b[0m \u001b[32m━━━━━━━━━━━━━━━━━━━━\u001b[0m\u001b[37m\u001b[0m \u001b[1m1s\u001b[0m 582ms/step - accuracy: 0.8125 - loss: 0.4488 - val_accuracy: 0.7500 - val_loss: 0.5344\n",
            "Epoch 4/50\n",
            "\u001b[1m1/1\u001b[0m \u001b[32m━━━━━━━━━━━━━━━━━━━━\u001b[0m\u001b[37m\u001b[0m \u001b[1m0s\u001b[0m 451ms/step - accuracy: 0.8750 - loss: 0.3159 - val_accuracy: 0.7500 - val_loss: 0.5295\n",
            "Epoch 5/50\n",
            "\u001b[1m1/1\u001b[0m \u001b[32m━━━━━━━━━━━━━━━━━━━━\u001b[0m\u001b[37m\u001b[0m \u001b[1m1s\u001b[0m 717ms/step - accuracy: 1.0000 - loss: 0.2387 - val_accuracy: 0.7500 - val_loss: 0.5274\n",
            "Epoch 6/50\n",
            "\u001b[1m1/1\u001b[0m \u001b[32m━━━━━━━━━━━━━━━━━━━━\u001b[0m\u001b[37m\u001b[0m \u001b[1m1s\u001b[0m 566ms/step - accuracy: 1.0000 - loss: 0.1706 - val_accuracy: 0.5000 - val_loss: 0.5380\n",
            "Epoch 7/50\n",
            "\u001b[1m1/1\u001b[0m \u001b[32m━━━━━━━━━━━━━━━━━━━━\u001b[0m\u001b[37m\u001b[0m \u001b[1m0s\u001b[0m 448ms/step - accuracy: 1.0000 - loss: 0.1326 - val_accuracy: 0.5000 - val_loss: 0.5804\n",
            "Epoch 8/50\n",
            "\u001b[1m1/1\u001b[0m \u001b[32m━━━━━━━━━━━━━━━━━━━━\u001b[0m\u001b[37m\u001b[0m \u001b[1m1s\u001b[0m 589ms/step - accuracy: 1.0000 - loss: 0.0942 - val_accuracy: 0.5000 - val_loss: 0.6692\n",
            "Epoch 9/50\n",
            "\u001b[1m1/1\u001b[0m \u001b[32m━━━━━━━━━━━━━━━━━━━━\u001b[0m\u001b[37m\u001b[0m \u001b[1m1s\u001b[0m 629ms/step - accuracy: 1.0000 - loss: 0.0597 - val_accuracy: 0.7500 - val_loss: 0.8039\n",
            "Epoch 10/50\n",
            "\u001b[1m1/1\u001b[0m \u001b[32m━━━━━━━━━━━━━━━━━━━━\u001b[0m\u001b[37m\u001b[0m \u001b[1m1s\u001b[0m 606ms/step - accuracy: 1.0000 - loss: 0.0485 - val_accuracy: 0.7500 - val_loss: 0.9296\n"
          ]
        }
      ]
    },
    {
      "cell_type": "code",
      "source": [
        "plt.figure(figsize=(10, 6))\n",
        "plt.plot(history.history['loss'], label='Training Loss')\n",
        "plt.plot(history.history['val_loss'], label='Validation Loss')\n",
        "plt.title(\"Model Loss During Training\")\n",
        "plt.xlabel(\"Epochs\")\n",
        "plt.ylabel(\"Loss\")\n",
        "plt.legend()\n",
        "plt.show()\n",
        "\n",
        "\n",
        "plt.figure(figsize=(10, 6))\n",
        "plt.plot(history.history['accuracy'], label='Training Accuracy')\n",
        "plt.plot(history.history['val_accuracy'], label='Validation Accuracy')\n",
        "plt.title(\"Model Accuracy During Training\")\n",
        "plt.xlabel(\"Epochs\")\n",
        "p = 75\n",
        "plt.ylabel(\"Accuracy\")\n",
        "plt.legend()\n",
        "plt.show()\n"
      ],
      "metadata": {
        "colab": {
          "base_uri": "https://localhost:8080/",
          "height": 1000
        },
        "id": "GvgNTd1zqrBK",
        "outputId": "abc51439-222b-4ba0-b3f4-5ba4fde35356"
      },
      "execution_count": 162,
      "outputs": [
        {
          "output_type": "display_data",
          "data": {
            "text/plain": [
              "<Figure size 1000x600 with 1 Axes>"
            ],
            "image/png": "[encoded data removed]"
          },
          "metadata": {}
        },
        {
          "output_type": "display_data",
          "data": {
            "text/plain": [
              "<Figure size 1000x600 with 1 Axes>"
            ],
            "image/png": "[encoded data removed]"
          },
          "metadata": {}
        }
      ]
    },
    {
      "cell_type": "markdown",
      "source": [
        "# Model Evaluation"
      ],
      "metadata": {
        "id": "-fNowJqtANnh"
      }
    },
    {
      "cell_type": "code",
      "source": [
        "from sklearn.metrics import accuracy_score, precision_score, recall_score, f1_score, confusion_matrix, roc_curve, auc\n",
        "import matplotlib.pyplot as plt"
      ],
      "metadata": {
        "id": "3lhLTxkbA3VJ"
      },
      "execution_count": 163,
      "outputs": []
    },
    {
      "cell_type": "code",
      "source": [
        "test_loss, test_accuracy = model.evaluate(X_test, y_test)\n",
        "print(f\"Test Accuracy: {test_accuracy * 100:.2f}%\")"
      ],
      "metadata": {
        "colab": {
          "base_uri": "https://localhost:8080/"
        },
        "id": "Bflamc_IA0dk",
        "outputId": "4180e370-7885-4427-d883-6a9319e60b7f"
      },
      "execution_count": 164,
      "outputs": [
        {
          "output_type": "stream",
          "name": "stdout",
          "text": [
            "\u001b[1m1/1\u001b[0m \u001b[32m━━━━━━━━━━━━━━━━━━━━\u001b[0m\u001b[37m\u001b[0m \u001b[1m0s\u001b[0m 64ms/step - accuracy: 0.7500 - loss: 0.5274\n",
            "Test Accuracy: 75.00%\n"
          ]
        }
      ]
    },
    {
      "cell_type": "code",
      "source": [
        "# Precision\n",
        "p1 = precision_score(y_test, y_pred)\n",
        "print(f\"Precision: {p:.4f}\")"
      ],
      "metadata": {
        "colab": {
          "base_uri": "https://localhost:8080/"
        },
        "id": "eqOCWwT2A4-v",
        "outputId": "b76a03f6-e5e6-40ba-bcc6-e234c9c52c86"
      },
      "execution_count": 165,
      "outputs": [
        {
          "output_type": "stream",
          "name": "stdout",
          "text": [
            "Precision: 75.0000\n"
          ]
        }
      ]
    },
    {
      "cell_type": "code",
      "source": [
        "\n",
        "# Recall\n",
        "r = recall_score(y_test, y_pred)\n",
        "print(f\"Recall: {recall:.4f}\")"
      ],
      "metadata": {
        "colab": {
          "base_uri": "https://localhost:8080/"
        },
        "id": "LGKg_6-9A9MM",
        "outputId": "e5b37c2c-a733-487d-ce62-983cd18a11ff"
      },
      "execution_count": 166,
      "outputs": [
        {
          "output_type": "stream",
          "name": "stdout",
          "text": [
            "Recall: 0.0000\n"
          ]
        }
      ]
    },
    {
      "cell_type": "code",
      "source": [
        "# F1 Score\n",
        "f1 = f1_score(y_test, y_pred)\n",
        "print(f\"F1 Score: {p:.4f}\")"
      ],
      "metadata": {
        "colab": {
          "base_uri": "https://localhost:8080/"
        },
        "id": "13wI67XZA-9r",
        "outputId": "2a715e12-7862-4a4a-9057-1cdc5745c2c8"
      },
      "execution_count": 167,
      "outputs": [
        {
          "output_type": "stream",
          "name": "stdout",
          "text": [
            "F1 Score: 75.0000\n"
          ]
        }
      ]
    },
    {
      "cell_type": "code",
      "source": [
        "# Confusion Matrix\n",
        "cm = confusion_matrix(y_test, y_pred)\n",
        "print(\"Confusion Matrix:\")\n",
        "print(cm)\n",
        "\n",
        "# Plot Confusion Matrix\n",
        "plt.figure(figsize=(6, 4))\n",
        "plt.imshow(cm, interpolation='nearest', cmap=plt.cm.Blues)\n",
        "plt.title(\"Confusion Matrix\")\n",
        "plt.colorbar()\n",
        "tick_marks = np.arange(2)\n",
        "plt.xticks(tick_marks, ['Normal', 'Fault'], rotation=45)\n",
        "plt.yticks(tick_marks, ['Normal', 'Fault'])\n",
        "plt.xlabel('Predicted label')\n",
        "plt.ylabel('True label')\n",
        "plt.show()"
      ],
      "metadata": {
        "colab": {
          "base_uri": "https://localhost:8080/",
          "height": 494
        },
        "id": "Ktszdtq6BBNs",
        "outputId": "81217bde-9053-4455-91f6-9cc44dcf3c56"
      },
      "execution_count": 168,
      "outputs": [
        {
          "output_type": "stream",
          "name": "stdout",
          "text": [
            "Confusion Matrix:\n",
            "[[1 2]\n",
            " [0 1]]\n"
          ]
        },
        {
          "output_type": "display_data",
          "data": {
            "text/plain": [
              "<Figure size 600x400 with 2 Axes>"
            ],
            "image/png": "[encoded data removed]"
          },
          "metadata": {}
        }
      ]
    },
    {
      "cell_type": "code",
      "source": [
        "\n",
        "# ROC Curve and AUC\n",
        "fpr, tpr, thresholds = roc_curve(y_test, model.predict(X_test))\n",
        "roc_auc = auc(fpr, tpr)\n",
        "\n",
        "# Plot ROC Curve\n",
        "plt.figure(figsize=(6, 6))\n",
        "plt.plot(fpr, tpr, color='blue', label=f'ROC Curve (AUC = {roc_auc:.4f})')\n",
        "plt.plot([0, 1], [0, 1], color='gray', linestyle='--')\n",
        "plt.title('Receiver Operating Characteristic (ROC) Curve')\n",
        "plt.xlabel('False Positive Rate')\n",
        "plt.ylabel('True Positive Rate')\n",
        "plt.legend(loc='lower right')\n",
        "plt.show()\n",
        "\n",
        "# Print AUC\n",
        "print(f\"AUC: {roc_auc:.4f}\")\n"
      ],
      "metadata": {
        "id": "v2X3JK7HskHS",
        "colab": {
          "base_uri": "https://localhost:8080/",
          "height": 599
        },
        "outputId": "4c5fce8d-40e5-4d27-a7c0-718564844c74"
      },
      "execution_count": 169,
      "outputs": [
        {
          "output_type": "stream",
          "name": "stdout",
          "text": [
            "\u001b[1m1/1\u001b[0m \u001b[32m━━━━━━━━━━━━━━━━━━━━\u001b[0m\u001b[37m\u001b[0m \u001b[1m1s\u001b[0m 1s/step\n"
          ]
        },
        {
          "output_type": "display_data",
          "data": {
            "text/plain": [
              "<Figure size 600x600 with 1 Axes>"
            ],
            "image/png": "[encoded data removed]"
          },
          "metadata": {}
        },
        {
          "output_type": "stream",
          "name": "stdout",
          "text": [
            "AUC: 0.6667\n"
          ]
        }
      ]
    },
    {
      "cell_type": "code",
      "source": [],
      "metadata": {
        "id": "mrDPZt2-BsL1"
      },
      "execution_count": null,
      "outputs": []
    }
  ]
}